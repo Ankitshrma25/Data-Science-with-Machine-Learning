{
 "cells": [
  {
   "cell_type": "markdown",
   "id": "c3320395",
   "metadata": {},
   "source": [
    "## SQL And SQLite\n",
    "\n",
    "SQL (Structured Query Language) is a standard language for managing and manipulating relational databases.\n",
    "SQLite is a self-contained, serverless, and zero-configuration database engine that is widely used for embedded\n",
    "database systems. In this lesson, we will cover the basics of SQL and SQLite, including creating databases,\n",
    "tables, and performing various SQL operations.\n"
   ]
  },
  {
   "cell_type": "code",
   "execution_count": 1,
   "id": "aee680e7",
   "metadata": {},
   "outputs": [],
   "source": [
    "import sqlite3  "
   ]
  },
  {
   "cell_type": "code",
   "execution_count": 2,
   "id": "c45093a1",
   "metadata": {},
   "outputs": [
    {
     "data": {
      "text/plain": [
       "<sqlite3.Connection at 0x15256ee31f0>"
      ]
     },
     "execution_count": 2,
     "metadata": {},
     "output_type": "execute_result"
    }
   ],
   "source": [
    "## Connect to an SQLite database\n",
    "connection=sqlite3.connect('example.db')\n",
    "connection"
   ]
  },
  {
   "cell_type": "code",
   "execution_count": 4,
   "id": "addba47e",
   "metadata": {},
   "outputs": [],
   "source": [
    "cursor=connection.cursor()\n"
   ]
  },
  {
   "cell_type": "code",
   "execution_count": 11,
   "id": "59fd41e2",
   "metadata": {},
   "outputs": [],
   "source": [
    "## Create a Table\n",
    "cursor.execute('''\n",
    "Create Table If Not Exists employee(\n",
    "    id Integer Primary Key,\n",
    "    name Text Not Null,\n",
    "    age Integer,\n",
    "    department text\n",
    "    )\n",
    "''')\n",
    "\n",
    "## Commit the changes\n",
    "connection.commit()"
   ]
  },
  {
   "cell_type": "code",
   "execution_count": 12,
   "id": "ea0dc60b",
   "metadata": {},
   "outputs": [
    {
     "data": {
      "text/plain": [
       "<sqlite3.Cursor at 0x15257163e40>"
      ]
     },
     "execution_count": 12,
     "metadata": {},
     "output_type": "execute_result"
    }
   ],
   "source": [
    "cursor.execute('''\n",
    "Select * from employee\n",
    "''')"
   ]
  },
  {
   "cell_type": "code",
   "execution_count": 13,
   "id": "69521dbc",
   "metadata": {},
   "outputs": [],
   "source": [
    "## Insert the data in SQLite3\n",
    "cursor.execute('''\n",
    "Insert Into employee(name,age,department) \n",
    "               values('Ankit',21,'Data Scientist')\n",
    "\n",
    "''')\n",
    "\n",
    "cursor.execute('''\n",
    "Insert Into employee(name,age,department) \n",
    "               values('Prakruti',19,'HR')\n",
    "\n",
    "''')\n",
    "\n",
    "cursor.execute('''\n",
    "Insert Into employee(name,age,department) \n",
    "               values('Dhruv',21,'ML Engineer')\n",
    "\n",
    "''')\n",
    "\n",
    "## Commit the changes of the insertion\n",
    "connection.commit()"
   ]
  },
  {
   "cell_type": "code",
   "execution_count": 16,
   "id": "e274f11b",
   "metadata": {},
   "outputs": [
    {
     "name": "stdout",
     "output_type": "stream",
     "text": [
      "(None, 'Ankit', 21, 'Data Scientist')\n",
      "(None, 'Prakruti', 19, 'HR')\n",
      "(None, 'Dhruv', 21, 'ML Engineer')\n",
      "(None, 'Ankit', 21, 'Data Scientist')\n",
      "(None, 'Prakruti', 19, 'HR')\n",
      "(None, 'Dhruv', 21, 'ML Engineer')\n"
     ]
    }
   ],
   "source": [
    "## Querying the data from the table\n",
    "cursor.execute('Select * from employee')\n",
    "rows=cursor.fetchall()\n",
    "\n",
    "## Print the queried data\n",
    "\n",
    "for row in rows:\n",
    "    print(row)"
   ]
  },
  {
   "cell_type": "code",
   "execution_count": 17,
   "id": "34848e5d",
   "metadata": {},
   "outputs": [
    {
     "data": {
      "text/plain": [
       "<sqlite3.Cursor at 0x15257163e40>"
      ]
     },
     "execution_count": 17,
     "metadata": {},
     "output_type": "execute_result"
    }
   ],
   "source": [
    "## Update the data in the table\n",
    "cursor.execute('''\n",
    "UPDATE employee\n",
    "Set age = 22\n",
    "where name='Ankit'\n",
    "''')"
   ]
  },
  {
   "cell_type": "code",
   "execution_count": null,
   "id": "0299c6a7",
   "metadata": {},
   "outputs": [
    {
     "name": "stdout",
     "output_type": "stream",
     "text": [
      "(None, 'Ankit', 22, 'Data Scientist')\n",
      "(None, 'Prakruti', 19, 'HR')\n",
      "(None, 'Dhruv', 21, 'ML Engineer')\n",
      "(None, 'Ankit', 22, 'Data Scientist')\n",
      "(None, 'Prakruti', 19, 'HR')\n",
      "(None, 'Dhruv', 21, 'ML Engineer')\n"
     ]
    }
   ],
   "source": [
    "## Querying the data from the table\n",
    "cursor.execute('Select * from employee')\n",
    "rows=cursor.fetchall()\n",
    "\n",
    "## Print the queried data\n",
    "\n",
    "for row in rows:\n",
    "    print(row)"
   ]
  },
  {
   "cell_type": "code",
   "execution_count": 19,
   "id": "cb5b0848",
   "metadata": {},
   "outputs": [],
   "source": [
    "## Delete duplicates while keeping the row with the smallest id\n",
    "cursor.execute(\"\"\"\n",
    "DELETE FROM employee\n",
    "WHERE rowid NOT IN (\n",
    "    SELECT MIN(rowid)\n",
    "    FROM employee\n",
    "    GROUP BY name, department\n",
    ");\n",
    "\"\"\")\n",
    "\n",
    "connection.commit()"
   ]
  },
  {
   "cell_type": "code",
   "execution_count": 20,
   "id": "27502246",
   "metadata": {},
   "outputs": [
    {
     "name": "stdout",
     "output_type": "stream",
     "text": [
      "(None, 'Ankit', 22, 'Data Scientist')\n",
      "(None, 'Prakruti', 19, 'HR')\n",
      "(None, 'Dhruv', 21, 'ML Engineer')\n"
     ]
    }
   ],
   "source": [
    "## Querying the data from the table\n",
    "cursor.execute('Select * from employee')\n",
    "rows=cursor.fetchall()\n",
    "\n",
    "## Print the queried data\n",
    "\n",
    "for row in rows:\n",
    "    print(row)"
   ]
  },
  {
   "cell_type": "code",
   "execution_count": 21,
   "id": "8997fcd5",
   "metadata": {},
   "outputs": [],
   "source": [
    "## close the connection\n",
    "connection.close()"
   ]
  },
  {
   "cell_type": "code",
   "execution_count": null,
   "id": "79346b17",
   "metadata": {},
   "outputs": [],
   "source": []
  }
 ],
 "metadata": {
  "kernelspec": {
   "display_name": "Python 3",
   "language": "python",
   "name": "python3"
  },
  "language_info": {
   "codemirror_mode": {
    "name": "ipython",
    "version": 3
   },
   "file_extension": ".py",
   "mimetype": "text/x-python",
   "name": "python",
   "nbconvert_exporter": "python",
   "pygments_lexer": "ipython3",
   "version": "3.13.5"
  }
 },
 "nbformat": 4,
 "nbformat_minor": 5
}
