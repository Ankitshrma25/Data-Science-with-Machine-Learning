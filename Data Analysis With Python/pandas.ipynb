{
 "cells": [
  {
   "cell_type": "markdown",
   "id": "43465f11",
   "metadata": {},
   "source": [
    "### Pandas in Python\n",
    "\n",
    "Pandas is a powerful data manipulation library in Python, widely used for data analysis and data cleaning. It\n",
    "provides two primary data structures: Series and DataFrame. A Series is a one-dimensional array-like object,\n",
    "while a DataFrame is a two-dimensional, size-mutable, and potentially heterogeneous tabular data structure\n",
    "with labeled axes (rows and columns)."
   ]
  },
  {
   "cell_type": "code",
   "execution_count": 3,
   "id": "b5c3ac89",
   "metadata": {},
   "outputs": [],
   "source": [
    "import pandas as pd\n"
   ]
  },
  {
   "cell_type": "code",
   "execution_count": 3,
   "id": "5042258e",
   "metadata": {},
   "outputs": [
    {
     "name": "stdout",
     "output_type": "stream",
     "text": [
      "Series :\n",
      " 0    1\n",
      "1    2\n",
      "2    3\n",
      "3    4\n",
      "4    5\n",
      "dtype: int64\n"
     ]
    }
   ],
   "source": [
    "## Series \n",
    "## A pandas Series is a one-dementional array like object that can hold any data type. It is similar to a column in a table.\n",
    "\n",
    "import pandas as pd\n",
    "data=[1,2,3,4,5]\n",
    "series=pd.Series(data)\n",
    "print(\"Series :\\n\",series)"
   ]
  },
  {
   "cell_type": "code",
   "execution_count": 5,
   "id": "0159bbe1",
   "metadata": {},
   "outputs": [
    {
     "name": "stdout",
     "output_type": "stream",
     "text": [
      "Series: \n",
      " a    1\n",
      "b    2\n",
      "c    3\n",
      "dtype: int64\n"
     ]
    }
   ],
   "source": [
    "## Creating a Series from dictionary\n",
    "data={'a':1,'b':2,'c':3}\n",
    "series_dict=pd.Series(data)\n",
    "print(\"Series: \\n\",series_dict)"
   ]
  },
  {
   "cell_type": "code",
   "execution_count": 4,
   "id": "fb699f3c",
   "metadata": {},
   "outputs": [
    {
     "data": {
      "text/plain": [
       "a    10\n",
       "b    20\n",
       "c    30\n",
       "dtype: int64"
      ]
     },
     "execution_count": 4,
     "metadata": {},
     "output_type": "execute_result"
    }
   ],
   "source": [
    "## Giving dirent indeces\n",
    "data=[10,20,30]\n",
    "index=['a','b','c']\n",
    "pd.Series(data,index=index)"
   ]
  },
  {
   "cell_type": "code",
   "execution_count": 6,
   "id": "143fd816",
   "metadata": {},
   "outputs": [
    {
     "name": "stdout",
     "output_type": "stream",
     "text": [
      "       name  Age  city\n",
      "0     Ankit   21  Agra\n",
      "1  Prakruti   19  Puri\n",
      "2    Shweta   12  Agra\n",
      "<class 'pandas.core.frame.DataFrame'>\n"
     ]
    }
   ],
   "source": [
    "## Dataframe\n",
    "## creating dataframe from a dictionary of list\n",
    "data={\n",
    "    'name':['Ankit','Prakruti','Shweta'],\n",
    "    'Age':[21,19,12],\n",
    "    'city':['Agra','Puri','Agra']\n",
    "}\n",
    "\n",
    "df=pd.DataFrame(data)\n",
    "print(df)\n",
    "print(type(df))"
   ]
  },
  {
   "cell_type": "code",
   "execution_count": 9,
   "id": "033ce356",
   "metadata": {},
   "outputs": [
    {
     "data": {
      "text/plain": [
       "array([['Ankit', 21, 'Agra'],\n",
       "       ['Prakruti', 19, 'Puri'],\n",
       "       ['Shweta', 12, 'Agra']], dtype=object)"
      ]
     },
     "execution_count": 9,
     "metadata": {},
     "output_type": "execute_result"
    }
   ],
   "source": [
    "import numpy as np\n",
    "np.array(df)\n"
   ]
  },
  {
   "cell_type": "code",
   "execution_count": 11,
   "id": "9dae33ca",
   "metadata": {},
   "outputs": [],
   "source": [
    "## Creating the dataframe fromlist of dictionary\n",
    "\n",
    "data=[\n",
    "    {'Name':'Ankit','Age':21,'city':'Agra'},\n",
    "    {'Name':'Prakruti','Age':19,'city':'Puri'},\n",
    "    {'Name':'Shweta','Age':12,'city':'Agra'},\n",
    "]"
   ]
  },
  {
   "cell_type": "code",
   "execution_count": 14,
   "id": "46f7f62e",
   "metadata": {},
   "outputs": [
    {
     "name": "stdout",
     "output_type": "stream",
     "text": [
      "       Name  Age  city\n",
      "0     Ankit   21  Agra\n",
      "1  Prakruti   19  Puri\n",
      "2    Shweta   12  Agra\n",
      "<class 'pandas.core.frame.DataFrame'>\n"
     ]
    }
   ],
   "source": [
    "df=pd.DataFrame(data)\n",
    "print(df)\n",
    "print(type(df))"
   ]
  },
  {
   "cell_type": "code",
   "execution_count": null,
   "id": "0f4f78ee",
   "metadata": {},
   "outputs": [],
   "source": []
  },
  {
   "cell_type": "code",
   "execution_count": null,
   "id": "58fa1751",
   "metadata": {},
   "outputs": [],
   "source": []
  },
  {
   "cell_type": "code",
   "execution_count": null,
   "id": "af7afa56",
   "metadata": {},
   "outputs": [],
   "source": []
  },
  {
   "cell_type": "code",
   "execution_count": null,
   "id": "19311149",
   "metadata": {},
   "outputs": [],
   "source": []
  }
 ],
 "metadata": {
  "kernelspec": {
   "display_name": "Python 3",
   "language": "python",
   "name": "python3"
  },
  "language_info": {
   "codemirror_mode": {
    "name": "ipython",
    "version": 3
   },
   "file_extension": ".py",
   "mimetype": "text/x-python",
   "name": "python",
   "nbconvert_exporter": "python",
   "pygments_lexer": "ipython3",
   "version": "3.13.5"
  }
 },
 "nbformat": 4,
 "nbformat_minor": 5
}
