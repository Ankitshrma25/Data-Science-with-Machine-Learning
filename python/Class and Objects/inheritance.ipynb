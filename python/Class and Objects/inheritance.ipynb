{
 "cells": [
  {
   "cell_type": "markdown",
   "id": "549f3b71",
   "metadata": {},
   "source": [
    "### Inheritance in Python\n",
    "Inharitance is the fundamental concept of OOPs. It allows us to define a class that inherits all the methods and attributes from another class(called a parent or base class)."
   ]
  },
  {
   "cell_type": "code",
   "execution_count": 3,
   "id": "8dc45311",
   "metadata": {},
   "outputs": [],
   "source": [
    "## Inheritance\n",
    "## parents class\n",
    "class Car:\n",
    "    \"\"\"contructor\"\"\"\n",
    "    def __init__(self,windows,doors,engine):\n",
    "        self.windows = windows\n",
    "        self.doors = doors\n",
    "        self.engine = engine\n",
    "\n",
    "    \"\"\"method\"\"\"\n",
    "    def drive(self):\n",
    "        print(f\"The person will drive the {self.engine} car\")\n"
   ]
  },
  {
   "cell_type": "code",
   "execution_count": 5,
   "id": "cfa51d22",
   "metadata": {},
   "outputs": [
    {
     "name": "stdout",
     "output_type": "stream",
     "text": [
      "The person will drive the petrol car\n"
     ]
    }
   ],
   "source": [
    "car1= Car(4, 4, \"petrol\")\n",
    "car1.drive()"
   ]
  },
  {
   "cell_type": "code",
   "execution_count": 10,
   "id": "a1c95b31",
   "metadata": {},
   "outputs": [],
   "source": [
    "## Inheritance in Python\n",
    "\n",
    "class Tesla(Car):\n",
    "    def __init__(self, windows, doors, engine, autopilot):\n",
    "        super().__init__(windows, doors, engine)\n",
    "        self.autopilot = autopilot\n",
    "\n",
    "    def self_driving(self):\n",
    "        print(f\"Tesla supports self driving: {self.autopilot}\")"
   ]
  },
  {
   "cell_type": "code",
   "execution_count": 11,
   "id": "ca0fd215",
   "metadata": {},
   "outputs": [
    {
     "name": "stdout",
     "output_type": "stream",
     "text": [
      "Tesla supports self driving: True\n"
     ]
    }
   ],
   "source": [
    "## calling the Tesla class\n",
    "tesla1 = Tesla(4, 4, \"electric\", True)\n",
    "\n",
    "tesla1.self_driving()"
   ]
  },
  {
   "cell_type": "code",
   "execution_count": 12,
   "id": "7c5aef03",
   "metadata": {},
   "outputs": [
    {
     "name": "stdout",
     "output_type": "stream",
     "text": [
      "The person will drive the electric car\n"
     ]
    }
   ],
   "source": [
    "tesla1.drive()  # Inherited method from Car class"
   ]
  },
  {
   "cell_type": "code",
   "execution_count": 15,
   "id": "07c954f4",
   "metadata": {},
   "outputs": [],
   "source": [
    "### Multiple Inheritance\n",
    "## When a class inherits from more than one base class, it is called multiple inheritance.\n",
    "\n",
    "## Base class 1\n",
    "class Animal:\n",
    "    def __init__(self,name):\n",
    "        self.name=name\n",
    "\n",
    "    def speak(self):\n",
    "        print(f\"{self.name} makes a sound\")\n",
    "\n",
    "## Base class 2\n",
    "class Pet:\n",
    "    def __init__(self,owner):\n",
    "        self.owner = owner\n",
    "\n",
    "    def show_owner(self):\n",
    "        print(f\"{self.owner} is the owner of this pet\")\n",
    "\n",
    "\n",
    "\n",
    "## Derived class inheriting from both Animal and Pet\n",
    "class Dog(Animal,Pet):\n",
    "    def __init__(self,name,owner):\n",
    "        Animal.__init__(self,name)\n",
    "        Pet.__init__(self,owner)\n",
    "\n",
    "    def speak(self):\n",
    "        return f\"{self.name} says woof\"\n",
    "\n"
   ]
  },
  {
   "cell_type": "code",
   "execution_count": 16,
   "id": "653661f9",
   "metadata": {},
   "outputs": [
    {
     "name": "stdout",
     "output_type": "stream",
     "text": [
      "shiro says woof\n",
      "Ankit has a dog named shiro\n"
     ]
    }
   ],
   "source": [
    "### Creating an object\n",
    "\n",
    "shiro=Dog(\"shiro\",\"Ankit\")\n",
    "\n",
    "print(shiro.speak())\n",
    "print(f\"{shiro.owner} has a dog named {shiro.name}\")"
   ]
  },
  {
   "cell_type": "code",
   "execution_count": null,
   "id": "e5b216cf",
   "metadata": {},
   "outputs": [],
   "source": []
  },
  {
   "cell_type": "code",
   "execution_count": null,
   "id": "165411fe",
   "metadata": {},
   "outputs": [],
   "source": []
  }
 ],
 "metadata": {
  "kernelspec": {
   "display_name": "Python 3",
   "language": "python",
   "name": "python3"
  },
  "language_info": {
   "codemirror_mode": {
    "name": "ipython",
    "version": 3
   },
   "file_extension": ".py",
   "mimetype": "text/x-python",
   "name": "python",
   "nbconvert_exporter": "python",
   "pygments_lexer": "ipython3",
   "version": "3.13.5"
  }
 },
 "nbformat": 4,
 "nbformat_minor": 5
}
