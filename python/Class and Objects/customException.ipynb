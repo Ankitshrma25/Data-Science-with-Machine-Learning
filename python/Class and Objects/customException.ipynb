{
 "cells": [
  {
   "cell_type": "code",
   "execution_count": 1,
   "id": "9c836841",
   "metadata": {},
   "outputs": [],
   "source": [
    " # custom exception\n",
    "class Error(Exception):\n",
    "    pass\n",
    "\n",
    "class dobException(Error):\n",
    "    pass    "
   ]
  },
  {
   "cell_type": "code",
   "execution_count": 5,
   "id": "744fa5ea",
   "metadata": {},
   "outputs": [
    {
     "name": "stdout",
     "output_type": "stream",
     "text": [
      "Your age should be greater 25 and lessthan 30\n"
     ]
    }
   ],
   "source": [
    "year = int(input(\"Enter the Dob\"))\n",
    "\n",
    "age = 2025 - year\n",
    "\n",
    "\n",
    "try:\n",
    "    if age <=30 and age >= 20:\n",
    "        print(\"You can apply for the exam\")\n",
    "    else:\n",
    "        raise dobException\n",
    "    \n",
    "except dobException:\n",
    "    print(\"Your age should be greater 25 and lessthan 30\")"
   ]
  },
  {
   "cell_type": "code",
   "execution_count": null,
   "id": "98a45240",
   "metadata": {},
   "outputs": [],
   "source": []
  },
  {
   "cell_type": "code",
   "execution_count": null,
   "id": "b44e0519",
   "metadata": {},
   "outputs": [],
   "source": []
  },
  {
   "cell_type": "code",
   "execution_count": null,
   "id": "90667c46",
   "metadata": {},
   "outputs": [],
   "source": []
  },
  {
   "cell_type": "code",
   "execution_count": null,
   "id": "1b22ec22",
   "metadata": {},
   "outputs": [],
   "source": []
  },
  {
   "cell_type": "code",
   "execution_count": null,
   "id": "b907d2ef",
   "metadata": {},
   "outputs": [],
   "source": []
  }
 ],
 "metadata": {
  "kernelspec": {
   "display_name": "Python 3",
   "language": "python",
   "name": "python3"
  },
  "language_info": {
   "codemirror_mode": {
    "name": "ipython",
    "version": 3
   },
   "file_extension": ".py",
   "mimetype": "text/x-python",
   "name": "python",
   "nbconvert_exporter": "python",
   "pygments_lexer": "ipython3",
   "version": "3.13.5"
  }
 },
 "nbformat": 4,
 "nbformat_minor": 5
}
