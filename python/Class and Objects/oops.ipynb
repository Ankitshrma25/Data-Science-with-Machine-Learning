{
 "cells": [
  {
   "cell_type": "markdown",
   "id": "4e4ad5f5",
   "metadata": {},
   "source": [
    "### Python Class and Object\n",
    "Class in Python\n",
    "\n",
    "A class is the collection of objects. It is a Logical entity that has some specific attributes and methods.\n",
    "            OR\n",
    "Blueprint of creating objects\n",
    "\n",
    "\n",
    "Sytax:\n",
    "class ClassName:\n",
    "    # Statement 1\n",
    "    # Statement 2\n",
    "    .\n",
    "    .\n",
    "    .\n",
    "    # Statement N\n"
   ]
  },
  {
   "cell_type": "code",
   "execution_count": 8,
   "id": "fad0803e",
   "metadata": {},
   "outputs": [
    {
     "name": "stdout",
     "output_type": "stream",
     "text": [
      "<class '__main__.Car'>\n",
      "<__main__.Car object at 0x000002A535090C20>\n",
      "<__main__.Car object at 0x000002A534EA3ED0>\n"
     ]
    }
   ],
   "source": [
    "class Car:\n",
    "    pass\n",
    "\n",
    "audi=Car()\n",
    "BMW=Car()\n",
    "\n",
    "print(type(audi))\n",
    "print(audi)\n",
    "print(BMW)"
   ]
  },
  {
   "cell_type": "code",
   "execution_count": 9,
   "id": "1b61a256",
   "metadata": {},
   "outputs": [
    {
     "name": "stdout",
     "output_type": "stream",
     "text": [
      "4\n",
      "red\n"
     ]
    }
   ],
   "source": [
    "## attribute of objects\n",
    "audi.windows=4\n",
    "audi.color='red'\n",
    "\n",
    "print(audi.windows)\n",
    "print(audi.color)"
   ]
  },
  {
   "cell_type": "code",
   "execution_count": 11,
   "id": "79266bb5",
   "metadata": {},
   "outputs": [
    {
     "ename": "AttributeError",
     "evalue": "'Car' object has no attribute 'windows'",
     "output_type": "error",
     "traceback": [
      "\u001b[31m---------------------------------------------------------------------------\u001b[39m",
      "\u001b[31mAttributeError\u001b[39m                            Traceback (most recent call last)",
      "\u001b[36mCell\u001b[39m\u001b[36m \u001b[39m\u001b[32mIn[11]\u001b[39m\u001b[32m, line 5\u001b[39m\n\u001b[32m      2\u001b[39m tata.doors=\u001b[32m4\u001b[39m\n\u001b[32m      4\u001b[39m \u001b[38;5;66;03m# print(tata.doors)\u001b[39;00m\n\u001b[32m----> \u001b[39m\u001b[32m5\u001b[39m \u001b[38;5;28mprint\u001b[39m(\u001b[43mtata\u001b[49m\u001b[43m.\u001b[49m\u001b[43mwindows\u001b[49m)\n",
      "\u001b[31mAttributeError\u001b[39m: 'Car' object has no attribute 'windows'"
     ]
    }
   ],
   "source": [
    "tata=Car()\n",
    "tata.doors=4\n",
    "\n",
    "# print(tata.doors)\n",
    "print(tata.windows)"
   ]
  },
  {
   "cell_type": "code",
   "execution_count": 20,
   "id": "7bbc8903",
   "metadata": {},
   "outputs": [
    {
     "name": "stdout",
     "output_type": "stream",
     "text": [
      "<__main__.Cat object at 0x000002A535092A50>\n",
      "Flexy\n",
      "5\n"
     ]
    }
   ],
   "source": [
    "### Instance Variables and Methods\n",
    "class Cat:\n",
    "    \"\"\"Contructor to initialize the object\"\"\"\n",
    "    def __init__(self,name,age):\n",
    "        self.name=name\n",
    "        self.age=age\n",
    "\n",
    "## creating the objects\n",
    "cat1=Cat('Flexy',5)\n",
    "print(cat1)\n",
    "print(cat1.name)\n",
    "print(cat1.age)\n"
   ]
  },
  {
   "cell_type": "code",
   "execution_count": 21,
   "id": "26787c95",
   "metadata": {},
   "outputs": [
    {
     "name": "stdout",
     "output_type": "stream",
     "text": [
      "Misty\n",
      "3\n"
     ]
    }
   ],
   "source": [
    "cat2=Cat('Misty',3)\n",
    "print(cat2.name)\n",
    "print(cat2.age)\n"
   ]
  },
  {
   "cell_type": "code",
   "execution_count": 23,
   "id": "7c412f3b",
   "metadata": {},
   "outputs": [
    {
     "name": "stdout",
     "output_type": "stream",
     "text": [
      "Flexy says meow\n",
      "Misty says meow\n"
     ]
    }
   ],
   "source": [
    "## Defining a class with instance method\n",
    "class Cat:\n",
    "    \"\"\"constructor to initialize the object\"\"\"\n",
    "    def __init__(self,name,age):\n",
    "        self.name=name\n",
    "        self.age=age\n",
    "\n",
    "    ## Method to define behavior\n",
    "    def sound(self):\n",
    "        print(f\"{self.name} says meow\")\n",
    "\n",
    "\n",
    "## creating the objects\n",
    "cat11=Cat('Flexy',5)\n",
    "cat11.sound()\n",
    "\n",
    "cat12=Cat('Misty',3)\n",
    "cat12.sound()\n",
    "\n"
   ]
  },
  {
   "cell_type": "code",
   "execution_count": 27,
   "id": "68b9218d",
   "metadata": {},
   "outputs": [
    {
     "name": "stdout",
     "output_type": "stream",
     "text": [
      "1000\n"
     ]
    }
   ],
   "source": [
    "## Modeling a bank account\n",
    "\n",
    "## Defining a class for bank account'\n",
    "\n",
    "class BankAccount:\n",
    "    ##Defining instance variables\n",
    "    def __init__(self,owner,balance=0):\n",
    "        self.owner=owner\n",
    "        self.balance=balance\n",
    "    ## Defining instance methods\n",
    "    def deposit(self,amount):\n",
    "        self.balance += amount\n",
    "        print(f\"{amount} is deposited. New balance is {self.balance}\")\n",
    "\n",
    "    def withdraw(self,amount):\n",
    "        if amount > self.balance:\n",
    "            print(f\"Insufficient funds. Current balance is {self.balance}\") \n",
    "        else:\n",
    "            self.balance -= amount\n",
    "            print(f\"{amount} is withdrawn. New balance is {self.balance}\")\n",
    "\n",
    "    ## Method to display account balance\n",
    "    def get_balance(self):\n",
    "        return self.balance\n",
    "    \n",
    "\n",
    "\n",
    "## Creating an instance of BankAccount\n",
    "account1=BankAccount(\"Ankit Sharma\",1000)\n",
    "print(account1.balance)\n",
    "    "
   ]
  },
  {
   "cell_type": "code",
   "execution_count": 31,
   "id": "02205a83",
   "metadata": {},
   "outputs": [
    {
     "name": "stdout",
     "output_type": "stream",
     "text": [
      "5000 is deposited. New balance is 31000\n",
      "10000 is deposited. New balance is 41000\n",
      "6000 is withdrawn. New balance is 35000\n"
     ]
    }
   ],
   "source": [
    "### calling the instance methods\n",
    "\n",
    "## Depositing the money\n",
    "\n",
    "account1.deposit(5000)\n",
    "account1.deposit(10000)\n",
    "account1.withdraw(6000)"
   ]
  },
  {
   "cell_type": "code",
   "execution_count": 32,
   "id": "42674196",
   "metadata": {},
   "outputs": [
    {
     "name": "stdout",
     "output_type": "stream",
     "text": [
      "30000 is withdrawn. New balance is 5000\n"
     ]
    }
   ],
   "source": [
    "account1.withdraw(30000)"
   ]
  },
  {
   "cell_type": "code",
   "execution_count": 34,
   "id": "f5eb60e3",
   "metadata": {},
   "outputs": [
    {
     "data": {
      "text/plain": [
       "5000"
      ]
     },
     "execution_count": 34,
     "metadata": {},
     "output_type": "execute_result"
    }
   ],
   "source": [
    "account1.balance    "
   ]
  },
  {
   "cell_type": "code",
   "execution_count": 35,
   "id": "81f95a5c",
   "metadata": {},
   "outputs": [
    {
     "name": "stdout",
     "output_type": "stream",
     "text": [
      "5000\n"
     ]
    }
   ],
   "source": [
    "print(account1.get_balance())"
   ]
  },
  {
   "cell_type": "code",
   "execution_count": null,
   "id": "5a8a8602",
   "metadata": {},
   "outputs": [],
   "source": []
  },
  {
   "cell_type": "code",
   "execution_count": null,
   "id": "a300d69f",
   "metadata": {},
   "outputs": [],
   "source": []
  }
 ],
 "metadata": {
  "kernelspec": {
   "display_name": "Python 3",
   "language": "python",
   "name": "python3"
  },
  "language_info": {
   "codemirror_mode": {
    "name": "ipython",
    "version": 3
   },
   "file_extension": ".py",
   "mimetype": "text/x-python",
   "name": "python",
   "nbconvert_exporter": "python",
   "pygments_lexer": "ipython3",
   "version": "3.13.5"
  }
 },
 "nbformat": 4,
 "nbformat_minor": 5
}
