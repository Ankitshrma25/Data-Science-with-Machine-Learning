{
 "cells": [
  {
   "cell_type": "markdown",
   "id": "e5ecc206",
   "metadata": {},
   "source": [
    "# Abstraction in Python\n",
    "\n",
    "Abstraction is an Object-Oriented Programming (OOP) principle that hides implementation details and shows only the essential features of an object.\n",
    "\n",
    "It helps in focusing on what an object does instead of how it does it.\n",
    "\n",
    "\n",
    "\n",
    "#### Real-Life Analogy\n",
    "You press buttons(interface) of TV remote.....\n",
    "You don't care how the circuit inside works(implementation)\n"
   ]
  },
  {
   "cell_type": "code",
   "execution_count": null,
   "id": "f3ec865a",
   "metadata": {},
   "outputs": [],
   "source": [
    "from abc import ABC, abstractmethod\n",
    "\n",
    "## Abstract Base Class for Vehicles\n",
    "class Vehicle(ABC):\n",
    "    @abstractmethod\n",
    "    def start_engine(self):\n",
    "        \"\"\"Start the vehicle's engine.\"\"\"\n",
    "        pass\n",
    "    @abstractmethod\n",
    "    def stop_engine(self):\n",
    "        \"\"\"Stop the vehicle's engine.\"\"\"\n",
    "        pass\n",
    "\n"
   ]
  },
  {
   "cell_type": "code",
   "execution_count": null,
   "id": "0c48542e",
   "metadata": {},
   "outputs": [],
   "source": [
    "## Derived class \n",
    "\n",
    "class Car(Vehicle):\n",
    "    def start_engine(self):\n",
    "        print(\"Car Engine started.\")\n",
    "    \n",
    "    def stop_engine(self):\n",
    "        print(\"Car Engine stopped.\")"
   ]
  },
  {
   "cell_type": "code",
   "execution_count": 4,
   "id": "8740a5b3",
   "metadata": {},
   "outputs": [
    {
     "name": "stdout",
     "output_type": "stream",
     "text": [
      "Car Engine started.\n"
     ]
    }
   ],
   "source": [
    "## Object instantiation\n",
    "my_car = Car()\n",
    "my_car.start_engine()"
   ]
  },
  {
   "cell_type": "code",
   "execution_count": null,
   "id": "a16c1684",
   "metadata": {},
   "outputs": [],
   "source": []
  },
  {
   "cell_type": "code",
   "execution_count": null,
   "id": "99290720",
   "metadata": {},
   "outputs": [],
   "source": []
  },
  {
   "cell_type": "code",
   "execution_count": null,
   "id": "3fa2d5cd",
   "metadata": {},
   "outputs": [],
   "source": []
  }
 ],
 "metadata": {
  "kernelspec": {
   "display_name": "Python 3",
   "language": "python",
   "name": "python3"
  },
  "language_info": {
   "codemirror_mode": {
    "name": "ipython",
    "version": 3
   },
   "file_extension": ".py",
   "mimetype": "text/x-python",
   "name": "python",
   "nbconvert_exporter": "python",
   "pygments_lexer": "ipython3",
   "version": "3.13.5"
  }
 },
 "nbformat": 4,
 "nbformat_minor": 5
}
