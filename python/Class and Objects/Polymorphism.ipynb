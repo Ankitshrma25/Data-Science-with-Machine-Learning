{
 "cells": [
  {
   "cell_type": "markdown",
   "id": "a678dc2d",
   "metadata": {},
   "source": [
    "### Polymorphism in Python\n",
    "Polymorphism is the ability of an object to take many forms. In simple words, polymorphism allows us to perform a single action in different ways.\n"
   ]
  },
  {
   "cell_type": "markdown",
   "id": "7b2726ed",
   "metadata": {},
   "source": [
    "### Method OverRiding allows a child class to provide a specific implementation of a mehtod that is already defined in its parent class. When the parent method is called from within the child class, it will execute the child's version of the method.\n"
   ]
  },
  {
   "cell_type": "code",
   "execution_count": 1,
   "id": "5fbf687b",
   "metadata": {},
   "outputs": [],
   "source": [
    "## Base class\n",
    "class Animal:\n",
    "    def speak(self):\n",
    "        return \"Some sound\"\n",
    "    \n",
    "## Derived class\n",
    "class Dog(Animal):\n",
    "    def speak(self):\n",
    "        return super().speak() + \"Woof!\""
   ]
  },
  {
   "cell_type": "code",
   "execution_count": 2,
   "id": "ae0b7e4d",
   "metadata": {},
   "outputs": [
    {
     "name": "stdout",
     "output_type": "stream",
     "text": [
      "Some soundWoof!\n"
     ]
    }
   ],
   "source": [
    "print(Dog().speak())  # Output: Some soundWoof!"
   ]
  },
  {
   "cell_type": "code",
   "execution_count": 5,
   "id": "14a5eed7",
   "metadata": {},
   "outputs": [],
   "source": [
    "## derived class\n",
    "class Cat(Animal):\n",
    "    def speak(self):\n",
    "        return super().speak() + \"Meow!\""
   ]
  },
  {
   "cell_type": "code",
   "execution_count": 8,
   "id": "ad12422c",
   "metadata": {},
   "outputs": [
    {
     "name": "stdout",
     "output_type": "stream",
     "text": [
      "Some soundMeow!\n"
     ]
    }
   ],
   "source": [
    "print(Cat().speak())"
   ]
  },
  {
   "cell_type": "code",
   "execution_count": 13,
   "id": "917308b5",
   "metadata": {},
   "outputs": [],
   "source": [
    "## Function that demostrate polymorphism   (Public function not inside in the class)\n",
    "def animal_speak(animal):\n",
    "    print(animal.speak())\n",
    "\n",
    "dog= Dog()"
   ]
  },
  {
   "cell_type": "code",
   "execution_count": 14,
   "id": "e1cf641c",
   "metadata": {},
   "outputs": [
    {
     "name": "stdout",
     "output_type": "stream",
     "text": [
      "Some soundWoof!\n",
      "Some soundWoof!\n"
     ]
    }
   ],
   "source": [
    "animal_speak(Dog()) \n",
    "animal_speak(dog)"
   ]
  },
  {
   "cell_type": "code",
   "execution_count": 18,
   "id": "bf8adddb",
   "metadata": {},
   "outputs": [],
   "source": [
    "### Polymorphism with functions and methods\n",
    "\n",
    "## Base class\n",
    "\n",
    "class Shape:\n",
    "    def area(self):\n",
    "        return \"The are of the figure\"\n",
    "    \n",
    "## Derived class 1\n",
    "class Reactangle(Shape):\n",
    "    def __init__(self,width, height):\n",
    "        self.width = width\n",
    "        self.height = height      \n",
    "\n",
    "    def area(self):\n",
    "        return super().area() + f\" is {self.width * self.height}\"  \n",
    "    \n",
    "## Derived class 2\n",
    "class Circle(Shape):\n",
    "    def __init__(self, radius):\n",
    "        self.radius = radius\n",
    "\n",
    "\n",
    "    def area(self):\n",
    "        return super().area() + f\" is {3.14 * self.radius ** 2}\"\n",
    "    \n",
    "\n",
    "## Write a function that demonstrates polymorphism with the area method\n",
    "def print_area(Shape):\n",
    "    print(Shape.area())\n",
    "\n",
    "\n",
    "\n",
    "## Objects creation\n",
    "Reactangle1 = Reactangle(10,5)\n",
    "Circle1 = Circle(7)"
   ]
  },
  {
   "cell_type": "code",
   "execution_count": 19,
   "id": "2d1e7a23",
   "metadata": {},
   "outputs": [
    {
     "name": "stdout",
     "output_type": "stream",
     "text": [
      "The are of the figure is 50\n",
      "The are of the figure is 153.86\n"
     ]
    }
   ],
   "source": [
    "## calling the function with different objects\n",
    "print_area(Reactangle1)\n",
    "print_area(Circle1)"
   ]
  },
  {
   "cell_type": "code",
   "execution_count": 1,
   "id": "a832a737",
   "metadata": {},
   "outputs": [
    {
     "name": "stdout",
     "output_type": "stream",
     "text": [
      "Writing\n",
      "Erasing\n"
     ]
    }
   ],
   "source": [
    "class Pen:\n",
    "    def use(self):\n",
    "        return \"Writing\"\n",
    "\n",
    "class Eraser:\n",
    "    def use(self):\n",
    "        return \"Erasing\"\n",
    "\n",
    "def perform_task(tool):\n",
    "    print(tool.use())\n",
    "\n",
    "perform_task(Pen())\n",
    "perform_task(Eraser())"
   ]
  },
  {
   "cell_type": "markdown",
   "id": "c07aaaa6",
   "metadata": {},
   "source": [
    "Polymorphism with Abstract Base Classes (ABCs) in Python\n",
    "\n",
    "Abstarct Base Class (ABCs) are used to define common methods for a group of related objects. They can enforce that derived classes implement perticular methods, promoting consistency across different implementations.\n",
    "\n",
    "from abc import ABC, abstractmethod\n",
    "class Shape(ABC):\n",
    "    @abstractmethod\n",
    "    def area(self):\n",
    "        pass"
   ]
  },
  {
   "cell_type": "code",
   "execution_count": null,
   "id": "8c4b1238",
   "metadata": {},
   "outputs": [
    {
     "name": "stdout",
     "output_type": "stream",
     "text": [
      "Car engine started\n",
      "Motorcycle engine started\n"
     ]
    }
   ],
   "source": [
    "from abc import ABC, abstractmethod\n",
    "\n",
    "## Define an abstract base class\n",
    "class Vehicle(ABC):\n",
    "    \"\"\"Abstract method\"\"\"\n",
    "    @abstractmethod\n",
    "    def start_engine(self):\n",
    "        pass\n",
    "\n",
    "## Derived class 1\n",
    "class Car(Vehicle):\n",
    "    def start_engine(self):\n",
    "        return  \"Car engine started\"\n",
    "    \n",
    "## Derived class 2\n",
    "class Motorcycle(Vehicle):\n",
    "    def start_engine(self):\n",
    "        return \"Motorcycle engine started\"\n",
    "    \n",
    "\n",
    "\n",
    "# ## Function to demonstrate polymorphism with abstract base classes\n",
    "def start_vehicle(vehicle):\n",
    "    print(vehicle.start_engine())\n",
    "    \n",
    "\n",
    "## Creating objects of car and motorcycle\n",
    "car = Car()\n",
    "motorcycle = Motorcycle()\n",
    "\n",
    "start_vehicle(car)   \n",
    "start_vehicle(motorcycle)    \n"
   ]
  },
  {
   "cell_type": "code",
   "execution_count": null,
   "id": "dd380fa1",
   "metadata": {},
   "outputs": [],
   "source": []
  },
  {
   "cell_type": "code",
   "execution_count": null,
   "id": "f7fdda16",
   "metadata": {},
   "outputs": [],
   "source": []
  },
  {
   "cell_type": "code",
   "execution_count": null,
   "id": "9d8cd90d",
   "metadata": {},
   "outputs": [],
   "source": []
  },
  {
   "cell_type": "code",
   "execution_count": null,
   "id": "821f1073",
   "metadata": {},
   "outputs": [],
   "source": []
  },
  {
   "cell_type": "code",
   "execution_count": null,
   "id": "86179fa6",
   "metadata": {},
   "outputs": [],
   "source": []
  }
 ],
 "metadata": {
  "kernelspec": {
   "display_name": "Python 3",
   "language": "python",
   "name": "python3"
  },
  "language_info": {
   "codemirror_mode": {
    "name": "ipython",
    "version": 3
   },
   "file_extension": ".py",
   "mimetype": "text/x-python",
   "name": "python",
   "nbconvert_exporter": "python",
   "pygments_lexer": "ipython3",
   "version": "3.13.5"
  }
 },
 "nbformat": 4,
 "nbformat_minor": 5
}
