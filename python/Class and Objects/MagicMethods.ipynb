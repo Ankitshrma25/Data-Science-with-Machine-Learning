{
 "cells": [
  {
   "cell_type": "markdown",
   "id": "d06b93f9",
   "metadata": {},
   "source": []
  },
  {
   "cell_type": "markdown",
   "id": "504f2a1f",
   "metadata": {},
   "source": []
  },
  {
   "cell_type": "markdown",
   "id": "61c4b8a9",
   "metadata": {},
   "source": [
    "### Magic Methods\n",
    "Magic methods (also called dunder methods because they have double underscores before and after, like __init__, __str__, etc.) are special methods in Python that enable classes to implement behavior for built-in operations.\n",
    "\n",
    "\n",
    "\n",
    "Magic Method\tPurpose\n",
    "__init__\tObject constructor\n",
    "__str__\tString representation (str(obj))\n",
    "__repr__\tOfficial string (repr(obj))\n",
    "__len__\tLength using len(obj)\n",
    "__getitem__\tIndexing: obj[index]\n",
    "__setitem__\tAssigning value by index\n",
    "__delitem__\tDeleting item by index\n",
    "__add__\tAddition: obj1 + obj2\n",
    "__eq__, __lt__\tComparisons: ==, <, etc.\n",
    "__call__\tMake instance callable\n",
    "__iter__\tIterable support"
   ]
  },
  {
   "cell_type": "code",
   "execution_count": null,
   "id": "e95ace3a",
   "metadata": {},
   "outputs": [
    {
     "name": "stdout",
     "output_type": "stream",
     "text": [
      "Ankit Sharma\n"
     ]
    }
   ],
   "source": [
    "class Person:\n",
    "    def __init__(self,name):\n",
    "        self.name = name\n",
    "\n",
    "p = Person(\"Ankit Sharma\")\n",
    "print(p.name)"
   ]
  },
  {
   "cell_type": "code",
   "execution_count": 6,
   "id": "383ed978",
   "metadata": {},
   "outputs": [
    {
     "name": "stdout",
     "output_type": "stream",
     "text": [
      "My name is Ankit Sharma\n",
      "Person(Ankit Sharma)\n"
     ]
    }
   ],
   "source": [
    "### __str__ and __repr__ methods\n",
    "class Person:\n",
    "    def __init__(self,name):\n",
    "        self.name = name\n",
    "\n",
    "    def __str__(self):\n",
    "        return f\"My name is {self.name}\"\n",
    "    \n",
    "    def __repr__(self):\n",
    "        return f\"Person({self.name})\"\n",
    "    \n",
    "\n",
    "p = Person(\"Ankit Sharma\")\n",
    "print(str(p))\n",
    "print(repr(p))"
   ]
  },
  {
   "cell_type": "code",
   "execution_count": null,
   "id": "6483fee2",
   "metadata": {},
   "outputs": [],
   "source": []
  },
  {
   "cell_type": "code",
   "execution_count": null,
   "id": "9ae280d4",
   "metadata": {},
   "outputs": [],
   "source": []
  },
  {
   "cell_type": "code",
   "execution_count": null,
   "id": "aa5819a5",
   "metadata": {},
   "outputs": [],
   "source": []
  }
 ],
 "metadata": {
  "kernelspec": {
   "display_name": "Python 3",
   "language": "python",
   "name": "python3"
  },
  "language_info": {
   "codemirror_mode": {
    "name": "ipython",
    "version": 3
   },
   "file_extension": ".py",
   "mimetype": "text/x-python",
   "name": "python",
   "nbconvert_exporter": "python",
   "pygments_lexer": "ipython3",
   "version": "3.13.5"
  }
 },
 "nbformat": 4,
 "nbformat_minor": 5
}
