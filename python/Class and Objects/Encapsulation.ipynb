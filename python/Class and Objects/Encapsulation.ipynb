{
 "cells": [
  {
   "cell_type": "markdown",
   "id": "0f09909c",
   "metadata": {},
   "source": [
    "### Encapsulation in Python\n",
    "\n",
    "Encapsulation means hiding internal details of a class and only exposing what’s necessary. It helps to protect important data from being changed directly and keeps the code secure and organized."
   ]
  },
  {
   "cell_type": "code",
   "execution_count": 31,
   "id": "bd6efc66",
   "metadata": {},
   "outputs": [
    {
     "ename": "TypeError",
     "evalue": "Person.__init__() missing 1 required positional argument: 'gender'",
     "output_type": "error",
     "traceback": [
      "\u001b[31m---------------------------------------------------------------------------\u001b[39m",
      "\u001b[31mTypeError\u001b[39m                                 Traceback (most recent call last)",
      "\u001b[36mCell\u001b[39m\u001b[36m \u001b[39m\u001b[32mIn[31]\u001b[39m\u001b[32m, line 18\u001b[39m\n\u001b[32m     14\u001b[39m \u001b[38;5;28;01mdef\u001b[39;00m\u001b[38;5;250m \u001b[39m\u001b[34mget_age\u001b[39m(Person):\n\u001b[32m     15\u001b[39m     \u001b[38;5;28;01mreturn\u001b[39;00m Person.age      \u001b[38;5;66;03m## public variable\u001b[39;00m\n\u001b[32m---> \u001b[39m\u001b[32m18\u001b[39m Person1 = \u001b[43mPerson\u001b[49m\u001b[43m(\u001b[49m\u001b[33;43m\"\u001b[39;49m\u001b[33;43mAnkit\u001b[39;49m\u001b[33;43m\"\u001b[39;49m\u001b[43m,\u001b[49m\u001b[32;43m20\u001b[39;49m\u001b[43m)\u001b[49m\n\u001b[32m     19\u001b[39m \u001b[38;5;66;03m# Person1.name\u001b[39;00m\n\u001b[32m     20\u001b[39m \u001b[38;5;66;03m# get_name(Person1)\u001b[39;00m\n\u001b[32m     21\u001b[39m \u001b[38;5;66;03m# get_age(Person1)\u001b[39;00m\n",
      "\u001b[31mTypeError\u001b[39m: Person.__init__() missing 1 required positional argument: 'gender'"
     ]
    }
   ],
   "source": [
    "### Encapsulation in Python\n",
    "### with Getter and Setter Methods\n",
    "### Public, protected, and private veriables\n",
    "\n",
    "class Person:\n",
    "    def __init__(self, name, age, gender):\n",
    "        self.__name = name    ## private variable\n",
    "        self.age = age    ## public variable\n",
    "        self._gender = gender   ## Protected Variable\n",
    "        \n",
    "def get_name(Person):\n",
    "    return Person.__name     ## Private variable\n",
    "\n",
    "def get_age(Person):\n",
    "    return Person.age      ## public variable\n",
    "\n",
    "\n",
    "Person1 = Person(\"Ankit\",20)\n",
    "# Person1.name\n",
    "# get_name(Person1)\n",
    "# get_age(Person1)"
   ]
  },
  {
   "cell_type": "code",
   "execution_count": null,
   "id": "ee1879f5",
   "metadata": {},
   "outputs": [
    {
     "name": "stdout",
     "output_type": "stream",
     "text": [
      "Ankit\n"
     ]
    },
    {
     "data": {
      "text/plain": [
       "20"
      ]
     },
     "execution_count": 29,
     "metadata": {},
     "output_type": "execute_result"
    }
   ],
   "source": [
    "print(Person1._Person__name)  # Accessing Private variable\n",
    "get_age(Person1)   # Accessing protected variable\n"
   ]
  },
  {
   "cell_type": "markdown",
   "id": "a1d90775",
   "metadata": {},
   "source": [
    "### For accesssing the private variable we use getter and setter method\n",
    "class Employee:\n",
    "    def __init__(self):\n",
    "        self.__name = \"Rahul\"\n",
    "        self.__salary = 1000\n",
    "        self.__age = 25\n",
    "        \n",
    "    def get_name(self): #getter method\n",
    "        return self.__name\n",
    "        \n",
    "    def set_salary(self,salary):#setter method\n",
    "        if salary > 0:\n",
    "            self.__salary=salary\n",
    "            else:\n",
    "                print(\"Salary cannot be negative\")\n",
    "                \n",
    "emp=Employee()\n",
    "print(emp.get_name())\n",
    "emp.set_salary(300)\n",
    "print(emp._salary)\n"
   ]
  },
  {
   "cell_type": "code",
   "execution_count": 34,
   "id": "dd0adb7e",
   "metadata": {},
   "outputs": [
    {
     "name": "stdout",
     "output_type": "stream",
     "text": [
      "Ankit\n",
      "20\n",
      "Ankit Sharma\n",
      "22\n"
     ]
    }
   ],
   "source": [
    "## Getter and Setter Methods in Python (Encapsulation)\n",
    "\n",
    "class Person:\n",
    "    def __init__(self,name,age):\n",
    "        self.__name=name    # private variable or access modifier\n",
    "        self.__age=age      # private variable or access modifier\n",
    "\n",
    "    ## getter method for name\n",
    "    def get_name(self):     #this is the public method to access private attributes of class\n",
    "        return self.__name\n",
    "    \n",
    "    ## setter method for name\n",
    "    def set_name(self,name):  #this is the public method to modify private attributes of class\n",
    "        self.__name=name\n",
    "\n",
    "\n",
    "    ## getter method for age\n",
    "    def get_age(self):      #this is the public method to access private attributes of class\n",
    "        return self.__age\n",
    "    ## setter method for age\n",
    "    def set_age(self,age):\n",
    "        if age > 0:\n",
    "            self.__age=age\n",
    "        else:\n",
    "            print(\"Age must be positive\")\n",
    "\n",
    "\n",
    "# Example usage\n",
    "person=Person(\"Ankit\",20)\n",
    "\n",
    "## access and modify private veriable using getter and setter methods\n",
    "\n",
    "print(person.get_name())\n",
    "print(person.get_age())\n",
    "\n",
    "\n",
    "person.set_name(\"Ankit Sharma\")\n",
    "person.set_age(22)\n",
    "\n",
    "\n",
    "print(person.get_name())\n",
    "print(person.get_age())"
   ]
  },
  {
   "cell_type": "code",
   "execution_count": null,
   "id": "cbdbd8a7",
   "metadata": {},
   "outputs": [],
   "source": []
  },
  {
   "cell_type": "code",
   "execution_count": null,
   "id": "9b8407ee",
   "metadata": {},
   "outputs": [],
   "source": []
  },
  {
   "cell_type": "code",
   "execution_count": null,
   "id": "5a8f8ac6",
   "metadata": {},
   "outputs": [],
   "source": []
  },
  {
   "cell_type": "code",
   "execution_count": null,
   "id": "2356e63f",
   "metadata": {},
   "outputs": [],
   "source": []
  }
 ],
 "metadata": {
  "kernelspec": {
   "display_name": "Python 3",
   "language": "python",
   "name": "python3"
  },
  "language_info": {
   "codemirror_mode": {
    "name": "ipython",
    "version": 3
   },
   "file_extension": ".py",
   "mimetype": "text/x-python",
   "name": "python",
   "nbconvert_exporter": "python",
   "pygments_lexer": "ipython3",
   "version": "3.13.5"
  }
 },
 "nbformat": 4,
 "nbformat_minor": 5
}
