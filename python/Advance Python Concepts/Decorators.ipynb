{
 "cells": [
  {
   "cell_type": "markdown",
   "id": "78fe0813",
   "metadata": {},
   "source": [
    "### Decorators in Python\n",
    "\n",
    "Decorators are a powerful and flexible feature in Python that allows you to modify the behavior of a function or\n",
    "class method. They are commonly used to add functionality to functions or methods without modifying their\n",
    "actual code. This lesson covers the basics of decorators, including how to create and use them."
   ]
  },
  {
   "cell_type": "markdown",
   "id": "f49c98b6",
   "metadata": {},
   "source": [
    "#### Function Copy \n",
    "#### Closures\n",
    "#### Decorator\n"
   ]
  },
  {
   "cell_type": "code",
   "execution_count": null,
   "id": "8d6d54a1",
   "metadata": {},
   "outputs": [
    {
     "name": "stdout",
     "output_type": "stream",
     "text": [
      "Hello, Shweta!\n",
      "Hello, Ankit!\n"
     ]
    }
   ],
   "source": [
    "### Function copy\n",
    "\n",
    "\n",
    "def greet(name):\n",
    "    print(f\"Hello, {name}!\")\n",
    "\n",
    "\n",
    "say_hello = greet\n",
    "\n",
    "say_hello(\"Shweta\")\n",
    "\n",
    "greet(\"Ankit\")"
   ]
  },
  {
   "cell_type": "code",
   "execution_count": 27,
   "id": "56685a0b",
   "metadata": {},
   "outputs": [],
   "source": [
    "## closure\n",
    "\n",
    "\n",
    "def main_welcome():\n",
    "    msg=\"welcome\"\n",
    "    def inner_welcome():\n",
    "        print(\"Welcome to the advanced Python concepts course!\")\n",
    "        print(msg)\n",
    "        print(\"Please learn the concept carefully\")\n",
    "    return inner_welcome()"
   ]
  },
  {
   "cell_type": "code",
   "execution_count": 28,
   "id": "7a1db1bd",
   "metadata": {},
   "outputs": [
    {
     "name": "stdout",
     "output_type": "stream",
     "text": [
      "Welcome to the advanced Python concepts course!\n",
      "welcome\n",
      "Please learn the concept carefully\n"
     ]
    }
   ],
   "source": [
    "main_welcome()\n",
    "\n",
    "\n",
    "\n",
    "\n"
   ]
  },
  {
   "cell_type": "code",
   "execution_count": 29,
   "id": "92741b9c",
   "metadata": {},
   "outputs": [],
   "source": [
    "## we can pass the inbuild function as argument\n",
    "\n",
    "def main_welcome(func):\n",
    "    \n",
    "    def inner_welcome():\n",
    "        print(\"Welcome to the advanced Python concepts course!\")\n",
    "        func(\"Ankit Sharma\")\n",
    "        print(\"Please learn the concept carefully\")\n",
    "    return inner_welcome()\n"
   ]
  },
  {
   "cell_type": "code",
   "execution_count": 30,
   "id": "14806fe7",
   "metadata": {},
   "outputs": [
    {
     "name": "stdout",
     "output_type": "stream",
     "text": [
      "Welcome to the advanced Python concepts course!\n",
      "Ankit Sharma\n",
      "Please learn the concept carefully\n"
     ]
    }
   ],
   "source": [
    "main_welcome(print)"
   ]
  },
  {
   "cell_type": "code",
   "execution_count": 31,
   "id": "2b30bb78",
   "metadata": {},
   "outputs": [],
   "source": [
    "### Decorator\n",
    "\n",
    "\n",
    "def main_welcome(func):\n",
    "    msg=\"welcome\"\n",
    "    def inner_welcome():\n",
    "        print(\"Welcome to the advanced Python concepts course!\")\n",
    "        func()\n",
    "        print(\"Please learn the concept carefully\")\n",
    "    return inner_welcome()"
   ]
  },
  {
   "cell_type": "code",
   "execution_count": null,
   "id": "6cf18034",
   "metadata": {},
   "outputs": [],
   "source": [
    "def course_introduction():\n",
    "    print(\"This is a python course\")\n",
    "\n",
    "\n",
    "\n",
    "    "
   ]
  },
  {
   "cell_type": "code",
   "execution_count": 38,
   "id": "a1cf713b",
   "metadata": {},
   "outputs": [
    {
     "name": "stdout",
     "output_type": "stream",
     "text": [
      "This is a python course\n"
     ]
    }
   ],
   "source": [
    "course_introduction()"
   ]
  },
  {
   "cell_type": "code",
   "execution_count": 39,
   "id": "77cca376",
   "metadata": {},
   "outputs": [
    {
     "name": "stdout",
     "output_type": "stream",
     "text": [
      "Welcome to the advanced Python concepts course!\n",
      "This is a python course\n",
      "Please learn the concept carefully\n"
     ]
    }
   ],
   "source": [
    "main_welcome(course_introduction)"
   ]
  },
  {
   "cell_type": "code",
   "execution_count": 40,
   "id": "63b6db24",
   "metadata": {},
   "outputs": [
    {
     "name": "stdout",
     "output_type": "stream",
     "text": [
      "Welcome to the advanced Python concepts course!\n",
      "This is a python course\n",
      "Please learn the concept carefully\n"
     ]
    }
   ],
   "source": [
    "## Decorator creation\n",
    "\n",
    "@main_welcome\n",
    "def course_introduction():\n",
    "    print(\"This is a python course\")\n"
   ]
  },
  {
   "cell_type": "code",
   "execution_count": null,
   "id": "f0842ac1",
   "metadata": {},
   "outputs": [],
   "source": []
  },
  {
   "cell_type": "code",
   "execution_count": null,
   "id": "68a4adfc",
   "metadata": {},
   "outputs": [],
   "source": []
  }
 ],
 "metadata": {
  "kernelspec": {
   "display_name": "Python 3",
   "language": "python",
   "name": "python3"
  },
  "language_info": {
   "codemirror_mode": {
    "name": "ipython",
    "version": 3
   },
   "file_extension": ".py",
   "mimetype": "text/x-python",
   "name": "python",
   "nbconvert_exporter": "python",
   "pygments_lexer": "ipython3",
   "version": "3.13.5"
  }
 },
 "nbformat": 4,
 "nbformat_minor": 5
}
