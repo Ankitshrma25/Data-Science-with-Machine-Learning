{
 "cells": [
  {
   "cell_type": "markdown",
   "id": "b7de051f",
   "metadata": {},
   "source": [
    "Defination:\n",
    "\n",
    "Python Functions is a block of statements that does a specific task. The idea is to put some commonly or repeatedly done task together and make a function so that instead of writing the same code again and again for different inputs, we can do the function calls to reuse code contained in it over and over again.\n"
   ]
  },
  {
   "cell_type": "code",
   "execution_count": null,
   "id": "c092d6ef",
   "metadata": {},
   "outputs": [],
   "source": [
    "#Syntax\n",
    "def function_name():\n",
    "    \"\"\"Docstring\"\"\"\n",
    "    #Fucntion nody\n",
    "    return expression\n",
    "    "
   ]
  },
  {
   "cell_type": "code",
   "execution_count": 1,
   "id": "8b3eb71c",
   "metadata": {},
   "outputs": [
    {
     "name": "stdout",
     "output_type": "stream",
     "text": [
      "24 is even\n"
     ]
    }
   ],
   "source": [
    "## Why fuctions??\n",
    "num = 24\n",
    "if num % 2 == 0:\n",
    "    print(f\"{num} is even\")\n",
    "else:\n",
    "    print(f\"{num} is odd\")\n",
    "    "
   ]
  },
  {
   "cell_type": "code",
   "execution_count": 2,
   "id": "3cfb1ebd",
   "metadata": {},
   "outputs": [],
   "source": [
    "def even_odd(num):\n",
    "    \"\"\"Check if a number is even or odd\"\"\"\n",
    "    if num % 2 == 0:\n",
    "        print(f\"{num} is even\")\n",
    "    else:\n",
    "        print(f\"{num} is odd\")"
   ]
  },
  {
   "cell_type": "code",
   "execution_count": 4,
   "id": "c0be6ace",
   "metadata": {},
   "outputs": [
    {
     "name": "stdout",
     "output_type": "stream",
     "text": [
      "11 is odd\n",
      "None\n"
     ]
    }
   ],
   "source": [
    "print(even_odd(11))"
   ]
  },
  {
   "cell_type": "code",
   "execution_count": 11,
   "id": "c1edcbe2",
   "metadata": {},
   "outputs": [],
   "source": [
    "## Fuction with multiple parameters\n",
    "## Fuction adding two parameters\n",
    "\n",
    "def add(a,b):\n",
    "    return a + b\n"
   ]
  },
  {
   "cell_type": "code",
   "execution_count": 15,
   "id": "765be81e",
   "metadata": {},
   "outputs": [
    {
     "data": {
      "text/plain": [
       "8.5"
      ]
     },
     "execution_count": 15,
     "metadata": {},
     "output_type": "execute_result"
    }
   ],
   "source": [
    "add(4.5,4)\n"
   ]
  },
  {
   "cell_type": "code",
   "execution_count": 23,
   "id": "7d007ab5",
   "metadata": {},
   "outputs": [
    {
     "name": "stdout",
     "output_type": "stream",
     "text": [
      "Hello Ankit\n"
     ]
    }
   ],
   "source": [
    "## Default parammeters\n",
    "\n",
    "def greet(name):\n",
    "    print(f\"Hello {name}\")\n",
    "\n",
    "greet(\"Ankit\")"
   ]
  },
  {
   "cell_type": "code",
   "execution_count": 1,
   "id": "ab079893",
   "metadata": {},
   "outputs": [],
   "source": [
    "### veriable length Argumements\n",
    "## positional arguments (positional means order of passing the arguement is important)\n",
    "\n",
    "def print_numbers(*args):\n",
    "    for numbers in args:\n",
    "        print(numbers)\n",
    "        "
   ]
  },
  {
   "cell_type": "code",
   "execution_count": 2,
   "id": "3f87f6f8",
   "metadata": {},
   "outputs": [
    {
     "name": "stdout",
     "output_type": "stream",
     "text": [
      "1\n",
      "2\n",
      "3\n",
      "4\n",
      "5\n",
      "6\n",
      "7\n",
      "8\n",
      "Ankit\n"
     ]
    }
   ],
   "source": [
    "print_numbers(1,2,3,4,5,6,7,8,\"Ankit\")"
   ]
  },
  {
   "cell_type": "code",
   "execution_count": 3,
   "id": "a462e870",
   "metadata": {},
   "outputs": [],
   "source": [
    "### Keywords Arguments (Keywords are arguments are used to pass the arguments in a function by using key=value pair)\n",
    "\n",
    "def print_details(**kwargs):\n",
    "    for key,value in kwargs.items():\n",
    "        print(f\"{key} : {value}\")"
   ]
  },
  {
   "cell_type": "code",
   "execution_count": 4,
   "id": "3b419663",
   "metadata": {},
   "outputs": [
    {
     "name": "stdout",
     "output_type": "stream",
     "text": [
      "name : Ankit\n",
      "age : 22\n",
      "gender : Male\n"
     ]
    }
   ],
   "source": [
    "print_details(name=\"Ankit\",age=22,gender=\"Male\")"
   ]
  }
 ],
 "metadata": {
  "kernelspec": {
   "display_name": "Python 3",
   "language": "python",
   "name": "python3"
  },
  "language_info": {
   "codemirror_mode": {
    "name": "ipython",
    "version": 3
   },
   "file_extension": ".py",
   "mimetype": "text/x-python",
   "name": "python",
   "nbconvert_exporter": "python",
   "pygments_lexer": "ipython3",
   "version": "3.13.5"
  }
 },
 "nbformat": 4,
 "nbformat_minor": 5
}
