{
 "cells": [
  {
   "cell_type": "code",
   "execution_count": 1,
   "id": "7e102376",
   "metadata": {},
   "outputs": [
    {
     "name": "stdout",
     "output_type": "stream",
     "text": [
      "['Ankit', 'Prakruti', 'Shweta', 'Dhruv']\n"
     ]
    }
   ],
   "source": [
    "# List \n",
    "list = [\"Ankit\", \"Prakruti\", \"Shweta\", \"Dhruv\"]\n",
    "print(list)"
   ]
  },
  {
   "cell_type": "code",
   "execution_count": 5,
   "id": "972f4f2a",
   "metadata": {},
   "outputs": [
    {
     "name": "stdout",
     "output_type": "stream",
     "text": [
      "Ankit\n",
      "['Prakruti', 'Shweta']\n",
      "['Ankit', 'Prakruti']\n",
      "['Shweta', 'Dhruv']\n",
      "Dhruv\n",
      "[]\n"
     ]
    }
   ],
   "source": [
    "# Assesing\n",
    "print(list[0])\n",
    "\n",
    "# Silacing\n",
    "print(list[1:3])\n",
    "print(list[:2])\n",
    "print(list[2:])\n",
    "print(list[-1])\n",
    "print(list[-1:-2])"
   ]
  },
  {
   "cell_type": "code",
   "execution_count": 11,
   "id": "66dd7879",
   "metadata": {},
   "outputs": [
    {
     "name": "stdout",
     "output_type": "stream",
     "text": [
      "['Ankit', 'Prakruti', 'Shweta', 'Dhruv', 'Ankit', 'Ankit']\n"
     ]
    }
   ],
   "source": [
    "# Methods in list\n",
    "\n",
    "# Append\n",
    "list.append(\"Ankit\")\n",
    "print(list)"
   ]
  },
  {
   "cell_type": "code",
   "execution_count": 13,
   "id": "497988ca",
   "metadata": {},
   "outputs": [
    {
     "name": "stdout",
     "output_type": "stream",
     "text": [
      "['Ankit Sharma', 'Ankit', 'Ankit Sharma', 'Prakruti', 'Shweta', 'Dhruv', 'Ankit', 'Ankit']\n"
     ]
    }
   ],
   "source": [
    "list.insert(0,\"Ankit Sharma\")\n",
    "print(list)"
   ]
  },
  {
   "cell_type": "code",
   "execution_count": null,
   "id": "292e19b1",
   "metadata": {},
   "outputs": [
    {
     "name": "stdout",
     "output_type": "stream",
     "text": [
      "['Ankit', 'Ankit Sharma', 'Prakruti', 'Shweta', 'Dhruv', 'Ankit', 'Ankit']\n"
     ]
    }
   ],
   "source": [
    "# Remove\n",
    "list.remove(\"Ankit Sharma\") ## Remove the first occurance\n",
    "print(list)"
   ]
  },
  {
   "cell_type": "code",
   "execution_count": null,
   "id": "d03fe2a9",
   "metadata": {},
   "outputs": [
    {
     "name": "stdout",
     "output_type": "stream",
     "text": [
      "Ankit Sharma\n",
      "['Ankit', 'Prakruti', 'Shweta', 'Dhruv', 'Ankit']\n"
     ]
    }
   ],
   "source": [
    "# Pop function\n",
    "new_list = list.pop(1) ##Remove and return the last value\n",
    "print(new_list)\n",
    "print(list)"
   ]
  },
  {
   "cell_type": "code",
   "execution_count": 19,
   "id": "8bc374f3",
   "metadata": {},
   "outputs": [
    {
     "name": "stdout",
     "output_type": "stream",
     "text": [
      "1\n"
     ]
    }
   ],
   "source": [
    "## Finding the index\n",
    "print(list.index(\"Prakruti\"))\n",
    "\n"
   ]
  },
  {
   "cell_type": "code",
   "execution_count": null,
   "id": "c579d600",
   "metadata": {},
   "outputs": [
    {
     "name": "stdout",
     "output_type": "stream",
     "text": [
      "['Ankit', 'Ankit', 'Dhruv', 'Prakruti', 'Shweta']\n",
      "None\n"
     ]
    }
   ],
   "source": [
    "## Sorting\n",
    "# print(list)\n",
    "list.sort()"
   ]
  },
  {
   "cell_type": "code",
   "execution_count": 3,
   "id": "452312fc",
   "metadata": {},
   "outputs": [
    {
     "name": "stdout",
     "output_type": "stream",
     "text": [
      "[3, 4, 5]\n",
      "[1, 2, 3, 4, 5]\n",
      "[6, 7, 8, 9, 10]\n",
      "[1, 3, 5, 7, 9]\n",
      "[10, 9, 8, 7, 6, 5, 4, 3, 2, 1]\n",
      "[10, 9, 8, 7]\n"
     ]
    }
   ],
   "source": [
    "## Slicing the list\n",
    "num = [1,2,3,4,5,6,7,8,9,10]\n",
    "print(num[2:5])\n",
    "print(num[:5])\n",
    "print(num[5:])\n",
    "print(num[::2])\n",
    "print(num[::-1]) ## reverse order of elements in a list\n",
    "print(num[-1:-5:-1]) \n",
    "\n"
   ]
  },
  {
   "cell_type": "code",
   "execution_count": 4,
   "id": "5984fc27",
   "metadata": {},
   "outputs": [
    {
     "name": "stdout",
     "output_type": "stream",
     "text": [
      "1\n",
      "2\n",
      "3\n",
      "4\n",
      "5\n",
      "6\n",
      "7\n",
      "8\n",
      "9\n",
      "10\n"
     ]
    }
   ],
   "source": [
    "## Itrating over the list\n",
    "\n",
    "for nums in num:\n",
    "    print(nums)"
   ]
  },
  {
   "cell_type": "code",
   "execution_count": 5,
   "id": "309e0c44",
   "metadata": {},
   "outputs": [
    {
     "name": "stdout",
     "output_type": "stream",
     "text": [
      "0 1\n",
      "1 2\n",
      "2 3\n",
      "3 4\n",
      "4 5\n",
      "5 6\n",
      "6 7\n",
      "7 8\n",
      "8 9\n",
      "9 10\n"
     ]
    }
   ],
   "source": [
    "## itrating with index\n",
    "for index,nums in enumerate(num):\n",
    "    print(index,nums)"
   ]
  },
  {
   "cell_type": "code",
   "execution_count": 6,
   "id": "6c1f6acf",
   "metadata": {},
   "outputs": [
    {
     "name": "stdout",
     "output_type": "stream",
     "text": [
      "[0, 1, 4, 9, 16, 25, 36, 49, 64, 81]\n"
     ]
    }
   ],
   "source": [
    "## List Comprehension\n",
    "lst=[]\n",
    "for x in range(10):\n",
    "    lst.append(x**2)\n",
    "print(lst)\n",
    "    "
   ]
  },
  {
   "cell_type": "markdown",
   "id": "3eb75751",
   "metadata": {},
   "source": [
    "#### List Comprehension\n",
    "\n",
    "Basics Syntax     [expression for item in list]\n",
    "\n",
    "Example 1:    [x**2 for x in range(5)]\n",
    "\n",
    "with conditional logic   [expression for item in list if condition]\n",
    "\n",
    "Example 2:    [x**2 for x in range(5) if x%2==0]\n",
    "\n",
    "Nested list Comprehension    [[expression for item in list] for item in list]\n",
    "\n"
   ]
  },
  {
   "cell_type": "code",
   "execution_count": null,
   "id": "f3d44b28",
   "metadata": {},
   "outputs": [
    {
     "data": {
      "text/plain": [
       "[0, 1, 4, 9, 16, 25, 36, 49, 64, 81]"
      ]
     },
     "execution_count": 7,
     "metadata": {},
     "output_type": "execute_result"
    }
   ],
   "source": [
    "[x**2 for x in range(10)] #Sqaure of set of numbers"
   ]
  },
  {
   "cell_type": "code",
   "execution_count": 8,
   "id": "6050f3ce",
   "metadata": {},
   "outputs": [
    {
     "data": {
      "text/plain": [
       "[0, 9, 36, 81]"
      ]
     },
     "execution_count": 8,
     "metadata": {},
     "output_type": "execute_result"
    }
   ],
   "source": [
    "[x**2 for x in range(10) if x%3==0]"
   ]
  },
  {
   "cell_type": "code",
   "execution_count": 10,
   "id": "457f0fc5",
   "metadata": {},
   "outputs": [
    {
     "name": "stdout",
     "output_type": "stream",
     "text": [
      "[[1, 'a'], [1, 'b'], [1, 'c'], [1, 'd'], [2, 'a'], [2, 'b'], [2, 'c'], [2, 'd'], [3, 'a'], [3, 'b'], [3, 'c'], [3, 'd'], [4, 'a'], [4, 'b'], [4, 'c'], [4, 'd']]\n"
     ]
    }
   ],
   "source": [
    "## Nested list comprehension\n",
    "\n",
    "lst1=[1,2,3,4]\n",
    "lst2=['a','b','c','d']\n",
    "\n",
    "print([[i,j] for i in lst1 for j in lst2]) #pair=[[i,j] for i in lst1 for j in lst2]\n"
   ]
  },
  {
   "cell_type": "code",
   "execution_count": null,
   "id": "be3f3771",
   "metadata": {},
   "outputs": [],
   "source": []
  }
 ],
 "metadata": {
  "kernelspec": {
   "display_name": "Python 3",
   "language": "python",
   "name": "python3"
  },
  "language_info": {
   "codemirror_mode": {
    "name": "ipython",
    "version": 3
   },
   "file_extension": ".py",
   "mimetype": "text/x-python",
   "name": "python",
   "nbconvert_exporter": "python",
   "pygments_lexer": "ipython3",
   "version": "3.13.5"
  }
 },
 "nbformat": 4,
 "nbformat_minor": 5
}
