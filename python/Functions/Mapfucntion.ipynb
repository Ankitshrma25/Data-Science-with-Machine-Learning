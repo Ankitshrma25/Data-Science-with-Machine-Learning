{
 "cells": [
  {
   "cell_type": "code",
   "execution_count": 1,
   "id": "91ad3bc7",
   "metadata": {},
   "outputs": [
    {
     "data": {
      "text/plain": [
       "144"
      ]
     },
     "execution_count": 1,
     "metadata": {},
     "output_type": "execute_result"
    }
   ],
   "source": [
    "numbers=[1,2,3,4,5]\n",
    "\n",
    "def sqaure(x):\n",
    "    return x*x\n",
    "\n",
    "## function call\n",
    "sqaure(12)"
   ]
  },
  {
   "cell_type": "code",
   "execution_count": 4,
   "id": "e578a96a",
   "metadata": {},
   "outputs": [
    {
     "data": {
      "text/plain": [
       "[1, 4, 9, 16, 25]"
      ]
     },
     "execution_count": 4,
     "metadata": {},
     "output_type": "execute_result"
    }
   ],
   "source": [
    "list(map(sqaure,numbers))"
   ]
  },
  {
   "cell_type": "code",
   "execution_count": 7,
   "id": "4b2223b7",
   "metadata": {},
   "outputs": [
    {
     "data": {
      "text/plain": [
       "[6, 8, 10, 12]"
      ]
     },
     "execution_count": 7,
     "metadata": {},
     "output_type": "execute_result"
    }
   ],
   "source": [
    "## map fuction with multiple itration\n",
    "numbers1=[1,2,3,4]\n",
    "numbers2=[5,6,7,8,9]\n",
    "\n",
    "list(map(lambda x,y:x+y,numbers1,numbers2))\n"
   ]
  },
  {
   "cell_type": "code",
   "execution_count": null,
   "id": "dd0bc0c5",
   "metadata": {},
   "outputs": [
    {
     "name": "stdout",
     "output_type": "stream",
     "text": [
      "<class 'list'>\n"
     ]
    },
    {
     "data": {
      "text/plain": [
       "list"
      ]
     },
     "execution_count": 13,
     "metadata": {},
     "output_type": "execute_result"
    }
   ],
   "source": [
    "## map to convert list of strings to integer\n",
    "## Typecasting of the list\n",
    "numbers=[\"1\",\"2\",\"3\",\"4\",\"5\"]\n",
    "print(type(numbers))\n",
    "list(map(int,numbers))"
   ]
  },
  {
   "cell_type": "code",
   "execution_count": 14,
   "id": "48c7469e",
   "metadata": {},
   "outputs": [
    {
     "name": "stdout",
     "output_type": "stream",
     "text": [
      "['APPLE', 'BANANA', 'CHERRY']\n"
     ]
    }
   ],
   "source": [
    "word_list = [\"apple\", \"banana\", \"cherry\"]\n",
    "# Using map to convert all words to uppercase\n",
    "upper_words = list(map(str.upper, word_list))\n",
    "print(upper_words)  # Output: ['APPLE', 'BANANA', 'CHERRY']"
   ]
  },
  {
   "cell_type": "code",
   "execution_count": 16,
   "id": "2bbf4b41",
   "metadata": {},
   "outputs": [
    {
     "name": "stdout",
     "output_type": "stream",
     "text": [
      "['Ankit Sharma', 'Prakruti Das']\n"
     ]
    }
   ],
   "source": [
    "## map function applies on the dictionary\n",
    "def get_name(person):\n",
    "    return person[\"name\"]\n",
    "\n",
    "people = [\n",
    "    {\"name\": \"Ankit Sharma\", \"age\": 21},\n",
    "    {\"name\": \"Prakruti Das\", \"age\": 19}\n",
    "]\n",
    "\n",
    "names = list(map(get_name,people))\n",
    "\n",
    "print(names)  "
   ]
  },
  {
   "cell_type": "code",
   "execution_count": 4,
   "id": "8ea71b3c",
   "metadata": {},
   "outputs": [
    {
     "name": "stdout",
     "output_type": "stream",
     "text": [
      "[2, 4, 6, 8, 10]\n"
     ]
    }
   ],
   "source": [
    "## Filter function in Python\n",
    "def is_even(number):\n",
    "    if number % 2 == 0:\n",
    "        return True\n",
    "\n",
    "list_of_numbers = [1, 2, 3, 4, 5, 6, 7, 8, 9, 10]\n",
    "even_checker = list(filter(is_even, list_of_numbers))\n",
    "print(even_checker)      "
   ]
  },
  {
   "cell_type": "code",
   "execution_count": null,
   "id": "f813397b",
   "metadata": {},
   "outputs": [],
   "source": []
  }
 ],
 "metadata": {
  "kernelspec": {
   "display_name": "Python 3",
   "language": "python",
   "name": "python3"
  },
  "language_info": {
   "codemirror_mode": {
    "name": "ipython",
    "version": 3
   },
   "file_extension": ".py",
   "mimetype": "text/x-python",
   "name": "python",
   "nbconvert_exporter": "python",
   "pygments_lexer": "ipython3",
   "version": "3.13.5"
  }
 },
 "nbformat": 4,
 "nbformat_minor": 5
}
