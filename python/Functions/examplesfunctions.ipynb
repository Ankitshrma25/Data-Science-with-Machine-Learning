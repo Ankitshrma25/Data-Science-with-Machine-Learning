{
 "cells": [
  {
   "cell_type": "markdown",
   "id": "72dd6731",
   "metadata": {},
   "source": [
    "Functions Examples\n",
    "==================\n",
    "Example 1: Temperature Conversion\n",
    "\n",
    "Example 2: Password Strength checker\n",
    "\n",
    "Example 3: Calculate the Total Cost of items in a shopping cart\n",
    "\n",
    "Example 4: Check if a string is palindrome or not\n",
    "\n",
    "Example 5: Calculate the factorial of a number using recursion"
   ]
  },
  {
   "cell_type": "code",
   "execution_count": 2,
   "id": "38ac15af",
   "metadata": {},
   "outputs": [],
   "source": [
    "def temp_convert(temp, unit):\n",
    "     if unit == \"C\":\n",
    "        return temp * 1.8 + 32\n",
    "     elif unit == \"F\":\n",
    "        return (temp - 32) / 1.8\n",
    "     else:\n",
    "        return None"
   ]
  },
  {
   "cell_type": "code",
   "execution_count": 9,
   "id": "49b9040c",
   "metadata": {},
   "outputs": [
    {
     "name": "stdout",
     "output_type": "stream",
     "text": [
      "32.0\n",
      "-40.0\n"
     ]
    }
   ],
   "source": [
    "## Calling the function\n",
    "print(temp_convert(0,\"C\"))\n",
    "print(temp_convert(-40,\"F\"))"
   ]
  },
  {
   "cell_type": "code",
   "execution_count": 11,
   "id": "91184e7d",
   "metadata": {},
   "outputs": [],
   "source": [
    "## Password Strength Checker\n",
    "def password_checker(password):\n",
    "    if len(password) < 8:\n",
    "        return \"Weak\"\n",
    "    elif len(password) <16:\n",
    "        return \"Medium\"\n",
    "    else:\n",
    "        return \"Strong\""
   ]
  },
  {
   "cell_type": "code",
   "execution_count": 17,
   "id": "822d14a2",
   "metadata": {},
   "outputs": [
    {
     "data": {
      "text/plain": [
       "'Medium'"
      ]
     },
     "execution_count": 17,
     "metadata": {},
     "output_type": "execute_result"
    }
   ],
   "source": [
    "password_checker(\"Ankit118349@\")"
   ]
  },
  {
   "cell_type": "code",
   "execution_count": 20,
   "id": "7464e908",
   "metadata": {},
   "outputs": [
    {
     "name": "stdout",
     "output_type": "stream",
     "text": [
      "False\n",
      "True\n"
     ]
    }
   ],
   "source": [
    "## Password Strength Checker\n",
    "\n",
    "def check_password(password):\n",
    "    \"\"\"Giving the validations\"\"\"\n",
    "    if len(password) < 8:\n",
    "        return False\n",
    "    if not any(char.isdigit() for char in password):\n",
    "        return False\n",
    "    if not any(char.islower() for char in password):\n",
    "        return False\n",
    "    if not any(char.isupper() for char in password):\n",
    "        return False\n",
    "    if not any(char in \"!@#$%^&*()_+\" for char in password):\n",
    "        return False\n",
    "    return True\n",
    "\n",
    "\n",
    "\n",
    "## Calling the function\n",
    "print(check_password(\"Ankitsharma\"))\n",
    "print(check_password(\"Ankitsharma118349@\"))"
   ]
  },
  {
   "cell_type": "markdown",
   "id": "fe99af28",
   "metadata": {},
   "source": [
    "### Calculating the Total Cost if Items in a shopping Cart\n"
   ]
  },
  {
   "cell_type": "code",
   "execution_count": 29,
   "id": "4fbabd52",
   "metadata": {},
   "outputs": [
    {
     "name": "stdout",
     "output_type": "stream",
     "text": [
      "Total cost of the items in the cart is: 25\n"
     ]
    }
   ],
   "source": [
    "def calculate_total_cost(cart):\n",
    "    total_cost = 0\n",
    "    for item in cart:\n",
    "        total_cost += item[\"price\"]* item[\"quantity\"]\n",
    "    return total_cost\n",
    "\n",
    "## Cart Data\n",
    "\n",
    "cart = [\n",
    "    {\"name\": \"Apple\", \"price\": 5, \"quantity\": 1},\n",
    "    {\"name\": \"Banana\", \"price\": 3, \"quantity\": 1},\n",
    "    {\"name\": \"Orange\", \"price\": 8, \"quantity\": 1},\n",
    "    {\"name\": \"Milk\", \"price\": 2, \"quantity\": 2},\n",
    "    {\"name\": \"Bread\", \"price\": 5, \"quantity\": 1}\n",
    "]\n",
    "\n",
    "\n",
    "## Calling the function\n",
    "print(\"Total cost of the items in the cart is:\", calculate_total_cost(cart))  # Assuming 'items' is a variable that holds the index of the item"
   ]
  },
  {
   "cell_type": "markdown",
   "id": "50640768",
   "metadata": {},
   "source": [
    "Example 4: Check if a string is palindrome or not\n"
   ]
  },
  {
   "cell_type": "code",
   "execution_count": 37,
   "id": "cee26053",
   "metadata": {},
   "outputs": [
    {
     "name": "stdout",
     "output_type": "stream",
     "text": [
      "True\n"
     ]
    }
   ],
   "source": [
    "def is_palindrome(s):\n",
    "    \"\"\"Check if a string is a palindrome.\"\"\"\n",
    "    s=s.lower().replace(\" \", \"\")\n",
    "    return s == s[::-1]\n",
    "\n",
    "## Calling the function\n",
    "print(is_palindrome(\"A man a plan a canal Panama\")) "
   ]
  }
 ],
 "metadata": {
  "kernelspec": {
   "display_name": "Python 3",
   "language": "python",
   "name": "python3"
  },
  "language_info": {
   "codemirror_mode": {
    "name": "ipython",
    "version": 3
   },
   "file_extension": ".py",
   "mimetype": "text/x-python",
   "name": "python",
   "nbconvert_exporter": "python",
   "pygments_lexer": "ipython3",
   "version": "3.13.5"
  }
 },
 "nbformat": 4,
 "nbformat_minor": 5
}
