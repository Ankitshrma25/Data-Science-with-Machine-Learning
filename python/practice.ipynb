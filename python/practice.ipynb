{
 "cells": [
  {
   "cell_type": "code",
   "execution_count": 2,
   "id": "19804223",
   "metadata": {},
   "outputs": [],
   "source": [
    "# print(\"hello world\")"
   ]
  },
  {
   "cell_type": "code",
   "execution_count": 2,
   "id": "a6181638",
   "metadata": {},
   "outputs": [
    {
     "name": "stdout",
     "output_type": "stream",
     "text": [
      "10\n",
      "20\n",
      "30\n",
      "40\n",
      "50\n",
      "60\n",
      "70\n",
      "80\n",
      "90\n",
      "100\n"
     ]
    }
   ],
   "source": [
    "# Loops in Python\n",
    "# for loop\n",
    "\n",
    "# n = int(input(\"Enter the number of times you want to print\"))\n",
    "# for i in range(10):\n",
    "#     print(i)\n",
    "# print(\"break\")\n",
    "\n",
    "# for i in range(0,10):\n",
    "#     print(i)\n",
    "# print(\"break\")\n",
    "\n",
    "# for i in range(1,11):\n",
    "#     print(i)\n",
    "\n",
    "# printing the table of the number 21\n",
    "# for i in range(21,211,21):\n",
    "#     print(i)\n",
    "n = int(input(\"Which table you want ?\"))\n",
    "\n",
    "for i in range(n,n*10+1,n):\n",
    "    print(i)\n",
    "\n"
   ]
  }
 ],
 "metadata": {
  "kernelspec": {
   "display_name": "Python 3",
   "language": "python",
   "name": "python3"
  },
  "language_info": {
   "codemirror_mode": {
    "name": "ipython",
    "version": 3
   },
   "file_extension": ".py",
   "mimetype": "text/x-python",
   "name": "python",
   "nbconvert_exporter": "python",
   "pygments_lexer": "ipython3",
   "version": "3.13.5"
  }
 },
 "nbformat": 4,
 "nbformat_minor": 5
}
