{
 "cells": [
  {
   "cell_type": "code",
   "execution_count": 1,
   "id": "35a9d3c6",
   "metadata": {},
   "outputs": [
    {
     "name": "stdout",
     "output_type": "stream",
     "text": [
      "<class 'dict'>\n"
     ]
    }
   ],
   "source": [
    "## Dictionary tutorial \n",
    "my_dict = dict()\n",
    "print(type(my_dict))"
   ]
  },
  {
   "cell_type": "markdown",
   "id": "11454ea3",
   "metadata": {},
   "source": [
    "##### Dictionary #######\n",
    "Python dictionary is a data structure that stores the value in key: value pairs. Values in a dictionary can be of any data type and can be duplicated, whereas keys can't be repeated and must be immutable."
   ]
  },
  {
   "cell_type": "code",
   "execution_count": null,
   "id": "4a3330f7",
   "metadata": {},
   "outputs": [
    {
     "name": "stdout",
     "output_type": "stream",
     "text": [
      "{1: 'Ankit', 2: 'Prakruti', 3: 'Shweta', 4: 'Shweta', 5: 'Dhruv'}\n",
      "{'dad': 'Ankit', 'mom': 'Prakruti', 'child': 'Flexy', 'brother': 'Dhruv', 'sister': 'Shweta'}\n"
     ]
    }
   ],
   "source": [
    "d = {1: 'Ankit', 2: 'Prakruti', 3: 'Shweta', 4: 'Shweta', 5: 'Dhruv'}\n",
    "print(d)\n",
    "\n",
    "\n",
    "family = {'dad': 'Ankit', 'mom': 'Prakruti', 'child': 'Flexy', 'brother': 'Dhruv', 'sister': 'Shweta'}\n",
    "print(family)"
   ]
  },
  {
   "cell_type": "code",
   "execution_count": 7,
   "id": "038b5844",
   "metadata": {},
   "outputs": [
    {
     "name": "stdout",
     "output_type": "stream",
     "text": [
      "Ankit\n",
      "Prakruti\n"
     ]
    }
   ],
   "source": [
    "## Accessing the dictionary elements\n",
    "family = {'dad': 'Ankit', 'mom': 'Prakruti', 'child': 'Flexy', 'brother': 'Dhruv', 'sister': 'Shweta'}\n",
    "print(family['dad'])\n",
    "print(family['mom'])\n"
   ]
  },
  {
   "cell_type": "code",
   "execution_count": 11,
   "id": "a17e3e35",
   "metadata": {},
   "outputs": [
    {
     "name": "stdout",
     "output_type": "stream",
     "text": [
      "Ankit\n",
      "Prakruti\n",
      "Flexy\n",
      "Start process for daughter\n"
     ]
    }
   ],
   "source": [
    "## Accessing the elements using get() method\n",
    "print(family.get('dad'))\n",
    "print(family.get('mom'))\n",
    "print(family.get('child'))\n",
    "print(family.get('daughter', 'Start process for daughter'))"
   ]
  },
  {
   "cell_type": "code",
   "execution_count": 12,
   "id": "c9bd55a2",
   "metadata": {},
   "outputs": [
    {
     "name": "stdout",
     "output_type": "stream",
     "text": [
      "{'dad': 'Ankit', 'mom': 'Prakruti', 'child': 'Flexy', 'brother': 'Dhruv', 'sister': 'Shweta'}\n"
     ]
    }
   ],
   "source": [
    "## Modifying the dictionary elements\n",
    "## Dictionary is mutable, so you can add, update or delete the elements\n",
    "print(family)"
   ]
  },
  {
   "cell_type": "code",
   "execution_count": 13,
   "id": "229c86bf",
   "metadata": {},
   "outputs": [
    {
     "name": "stdout",
     "output_type": "stream",
     "text": [
      "{'dad': 'Ankit', 'mom': 'Prakruti', 'child': 'Flexy', 'brother': 'Dhruv', 'sister': 'Shweta', 'daughter': 'meow'}\n"
     ]
    }
   ],
   "source": [
    "family['daughter'] = 'meow'\n",
    "print(family)\n"
   ]
  },
  {
   "cell_type": "code",
   "execution_count": 4,
   "id": "c2bf99ff",
   "metadata": {},
   "outputs": [
    {
     "name": "stdout",
     "output_type": "stream",
     "text": [
      "{'name': 'Ankit', 'age': 21, 'gender': 'male', 'city': 'Agra'}\n",
      "{'name': 'Ankit', 'age': 21, 'gender': 'male'}\n"
     ]
    }
   ],
   "source": [
    "## Dictionary Methods\n",
    "## Delete method\n",
    "students = {\"name\": \"Ankit\", \"age\": 21, \"gender\": \"male\", \"city\": \"Agra\"}\n",
    "print(students)\n",
    "\n",
    "del students[\"city\"]\n",
    "print(students)"
   ]
  },
  {
   "cell_type": "code",
   "execution_count": 20,
   "id": "678b4c37",
   "metadata": {},
   "outputs": [
    {
     "name": "stdout",
     "output_type": "stream",
     "text": [
      "{'age': 21}\n",
      "('gender', 'male')\n"
     ]
    }
   ],
   "source": [
    "## Pop method \n",
    "# removed_element = students.pop(\"name\")\n",
    "# print(students)\n",
    "# print(removed_element)\n",
    "new_removed_element = students.popitem()\n",
    "print(students)\n",
    "print(new_removed_element)"
   ]
  },
  {
   "cell_type": "code",
   "execution_count": 6,
   "id": "88e79746",
   "metadata": {},
   "outputs": [
    {
     "name": "stdout",
     "output_type": "stream",
     "text": [
      "name\n",
      "age\n",
      "gender\n"
     ]
    }
   ],
   "source": [
    "## Itrating over a dictionary\n",
    "## You can use loops to itrate over dictionaries, keys, value, or items\n",
    "\n",
    "## Itrativing over keys\n",
    "for keys in students.keys():\n",
    "    print(keys)"
   ]
  },
  {
   "cell_type": "code",
   "execution_count": 7,
   "id": "dae1301b",
   "metadata": {},
   "outputs": [
    {
     "name": "stdout",
     "output_type": "stream",
     "text": [
      "Ankit\n",
      "21\n",
      "male\n"
     ]
    }
   ],
   "source": [
    "## Itrating over values\n",
    "for values in students.values():\n",
    "    print(values)"
   ]
  },
  {
   "cell_type": "code",
   "execution_count": 8,
   "id": "ee629965",
   "metadata": {},
   "outputs": [
    {
     "name": "stdout",
     "output_type": "stream",
     "text": [
      "name:Ankit\n",
      "age:21\n",
      "gender:male\n"
     ]
    }
   ],
   "source": [
    "## Itrating over key,value pairs in a dictionary\n",
    "for key,values in students.items():\n",
    "    print(f\"{key}:{values}\")"
   ]
  },
  {
   "cell_type": "code",
   "execution_count": 2,
   "id": "ff91d0ee",
   "metadata": {},
   "outputs": [
    {
     "name": "stdout",
     "output_type": "stream",
     "text": [
      "{'student1': {'name': 'Ankit', 'age': 20}, 'student2': {'name': 'Rahul', 'age': 34}}\n"
     ]
    }
   ],
   "source": [
    "## Nested Dictionary\n",
    "students = {\n",
    "    \"student1\":{\n",
    "        \"name\":\"Ankit\",\n",
    "        \"age\":20\n",
    "    },\n",
    "\n",
    "    \"student2\":{\n",
    "        \"name\":\"Rahul\",\n",
    "        \"age\":34\n",
    "    }\n",
    "}\n",
    "\n",
    "print(students)"
   ]
  },
  {
   "cell_type": "code",
   "execution_count": 3,
   "id": "716d66fc",
   "metadata": {},
   "outputs": [
    {
     "name": "stdout",
     "output_type": "stream",
     "text": [
      "Ankit\n",
      "20\n"
     ]
    }
   ],
   "source": [
    "## Accessing nested disctionary elements\n",
    "print(students[\"student1\"][\"name\"])\n",
    "print(students[\"student1\"][\"age\"])"
   ]
  },
  {
   "cell_type": "code",
   "execution_count": 4,
   "id": "886183dd",
   "metadata": {},
   "outputs": [
    {
     "name": "stdout",
     "output_type": "stream",
     "text": [
      "student1:{'name': 'Ankit', 'age': 20}\n",
      "student2:{'name': 'Rahul', 'age': 34}\n"
     ]
    }
   ],
   "source": [
    "## Itrating over nested dictionaries\n",
    "for student_id,student_info in students.items():\n",
    "    print(f\"{student_id}:{student_info}\")"
   ]
  },
  {
   "cell_type": "code",
   "execution_count": 5,
   "id": "a1904948",
   "metadata": {},
   "outputs": [
    {
     "name": "stdout",
     "output_type": "stream",
     "text": [
      "{0: 0, 1: 1, 2: 4, 3: 9, 4: 16, 5: 25, 6: 36, 7: 49, 8: 64, 9: 81}\n"
     ]
    }
   ],
   "source": [
    "## Dictionary Comprehension\n",
    "square = {x:x**2 for x in range(10)}\n",
    "print(square)\n",
    "\n"
   ]
  },
  {
   "cell_type": "code",
   "execution_count": 10,
   "id": "a5abc1cd",
   "metadata": {},
   "outputs": [
    {
     "name": "stdout",
     "output_type": "stream",
     "text": [
      "{1: 5, 2: 6, 3: 3, 4: 4, 5: 12}\n"
     ]
    }
   ],
   "source": [
    "## Question 1: Use a dictionary to count the frequency of elements in a list\n",
    "\n",
    "numbers = [1,2,2,3,3,3,4,4,4,4,5,5,5,5,5,5,5,5,5,5,5,5,2,2,2,2,1,1,1,1]\n",
    "# print(numbers)\n",
    "freq_dict={}\n",
    "for number in numbers:\n",
    "    if number in freq_dict:\n",
    "        freq_dict[number]+=1\n",
    "    else:\n",
    "        freq_dict[number]=1\n",
    "\n",
    "print(freq_dict)\n"
   ]
  },
  {
   "cell_type": "code",
   "execution_count": 13,
   "id": "4fed22ed",
   "metadata": {},
   "outputs": [
    {
     "name": "stdout",
     "output_type": "stream",
     "text": [
      "{'a': 10, 'b': 30, 'd': 40}\n"
     ]
    }
   ],
   "source": [
    "## Merging two dictionaries into one\n",
    "\n",
    "dict1 = {'a': 10, 'b':20}\n",
    "dict2 = {'b': 30, 'd':40}\n",
    "\n",
    "mergerged_dict = {**dict1,**dict2}\n",
    "print(mergerged_dict)"
   ]
  },
  {
   "cell_type": "markdown",
   "id": "d78cb6c9",
   "metadata": {},
   "source": [
    "Example 1. Manage A To Do List\n",
    "Create a To Do list to keep track of tasks\n"
   ]
  },
  {
   "cell_type": "code",
   "execution_count": 19,
   "id": "25b0183d",
   "metadata": {},
   "outputs": [
    {
     "name": "stdout",
     "output_type": "stream",
     "text": [
      "Don't forgot to play RDR2\n",
      "Remaining tasks are:\n",
      "Play RDR2\n",
      "Learn ML\n",
      "running\n",
      "cleaning the room\n"
     ]
    }
   ],
   "source": [
    "to_do_list = [\"Play RDR2\", \"Learn Python\", \"Learn ML\", \"Go to the gym\"]\n",
    "\n",
    "## Adding more tasks in our todo list\n",
    "to_do_list.append(\"running\")\n",
    "to_do_list.append(\"cleaning the room\")\n",
    "\n",
    "## Removing a task from our todo list\n",
    "to_do_list.remove(\"Learn Python\")\n",
    "to_do_list.remove(\"Go to the gym\")\n",
    "\n",
    "## Checking if an item is present or not\n",
    "if \"Play RDR2\" in to_do_list:\n",
    "    print(\"Don't forgot to play RDR2\")\n",
    "else:\n",
    "    print(\"Yuppp Task is done!!\")\n",
    " \n",
    "\n",
    "print(\"Remaining tasks are:\")\n",
    "for task in to_do_list:\n",
    "    print(f\"{task}\")\n",
    "\n"
   ]
  },
  {
   "cell_type": "code",
   "execution_count": null,
   "id": "dbb36400",
   "metadata": {},
   "outputs": [],
   "source": []
  },
  {
   "cell_type": "code",
   "execution_count": null,
   "id": "81feedac",
   "metadata": {},
   "outputs": [],
   "source": []
  },
  {
   "cell_type": "code",
   "execution_count": null,
   "id": "1c7b00aa",
   "metadata": {},
   "outputs": [],
   "source": []
  }
 ],
 "metadata": {
  "kernelspec": {
   "display_name": "Python 3",
   "language": "python",
   "name": "python3"
  },
  "language_info": {
   "codemirror_mode": {
    "name": "ipython",
    "version": 3
   },
   "file_extension": ".py",
   "mimetype": "text/x-python",
   "name": "python",
   "nbconvert_exporter": "python",
   "pygments_lexer": "ipython3",
   "version": "3.13.5"
  }
 },
 "nbformat": 4,
 "nbformat_minor": 5
}
