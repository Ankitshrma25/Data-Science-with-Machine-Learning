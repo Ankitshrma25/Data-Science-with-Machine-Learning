{
 "cells": [
  {
   "cell_type": "code",
   "execution_count": 15,
   "id": "58a37f5d",
   "metadata": {},
   "outputs": [
    {
     "name": "stdout",
     "output_type": "stream",
     "text": [
      "<class 'set'>\n"
     ]
    }
   ],
   "source": [
    "## creating a set\n",
    "my_set = {1,2,3}\n",
    "print(type(my_set))"
   ]
  },
  {
   "cell_type": "code",
   "execution_count": 16,
   "id": "8e964e66",
   "metadata": {},
   "outputs": [
    {
     "name": "stdout",
     "output_type": "stream",
     "text": [
      "{1, 2, 3, 4}\n"
     ]
    }
   ],
   "source": [
    "#Basics sets operations\n",
    "## Adding elements to set\n",
    "my_set.add(4)\n",
    "print(my_set)"
   ]
  },
  {
   "cell_type": "code",
   "execution_count": 20,
   "id": "cd7d938d",
   "metadata": {},
   "outputs": [],
   "source": [
    "## Removing elements from a set\n",
    "# my_set.remove(10)\n",
    "# print(my_set)"
   ]
  },
  {
   "cell_type": "code",
   "execution_count": 5,
   "id": "dbf2ffa7",
   "metadata": {},
   "outputs": [
    {
     "name": "stdout",
     "output_type": "stream",
     "text": [
      "{1, 3, 4}\n"
     ]
    }
   ],
   "source": [
    "my_set.discard(10)\n",
    "print(my_set)"
   ]
  },
  {
   "cell_type": "code",
   "execution_count": null,
   "id": "0d3976f3",
   "metadata": {},
   "outputs": [
    {
     "name": "stdout",
     "output_type": "stream",
     "text": [
      "{1, 2, 3, 4}\n"
     ]
    }
   ],
   "source": [
    "## pop method\n",
    "# removed_element = my_set.pop()   ## Pop the ramdon element from set and return it.\n",
    "# print(removed_element)\n",
    "print(my_set)"
   ]
  },
  {
   "cell_type": "code",
   "execution_count": 18,
   "id": "b8528e11",
   "metadata": {},
   "outputs": [
    {
     "name": "stdout",
     "output_type": "stream",
     "text": [
      "True\n",
      "False\n"
     ]
    }
   ],
   "source": [
    "## Set Membership test\n",
    "## It checkes whether a value is present in the set or not\n",
    "print(4 in my_set)\n",
    "print(10 in my_set)"
   ]
  },
  {
   "cell_type": "code",
   "execution_count": 19,
   "id": "e8302d7d",
   "metadata": {},
   "outputs": [
    {
     "name": "stdout",
     "output_type": "stream",
     "text": [
      "{2, 3, 4, 5, 6}\n"
     ]
    }
   ],
   "source": [
    "## Mathematical Operations\n",
    "set1 = {2, 4, 6}\n",
    "set2 = {3, 5}\n",
    "\n",
    "### Union of two sets\n",
    "union_set = set1.union(set2)\n",
    "print(union_set)"
   ]
  },
  {
   "cell_type": "code",
   "execution_count": 21,
   "id": "b4a40c82",
   "metadata": {},
   "outputs": [
    {
     "name": "stdout",
     "output_type": "stream",
     "text": [
      "{2, 4, 6}\n"
     ]
    }
   ],
   "source": [
    "## Difference between set and list\n",
    "difference_set = set1.difference(set2)\n",
    "print(difference_set)\n"
   ]
  }
 ],
 "metadata": {
  "kernelspec": {
   "display_name": "Python 3",
   "language": "python",
   "name": "python3"
  },
  "language_info": {
   "codemirror_mode": {
    "name": "ipython",
    "version": 3
   },
   "file_extension": ".py",
   "mimetype": "text/x-python",
   "name": "python",
   "nbconvert_exporter": "python",
   "pygments_lexer": "ipython3",
   "version": "3.13.5"
  }
 },
 "nbformat": 4,
 "nbformat_minor": 5
}
