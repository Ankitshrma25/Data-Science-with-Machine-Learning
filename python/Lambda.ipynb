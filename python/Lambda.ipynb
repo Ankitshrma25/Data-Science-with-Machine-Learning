{
 "cells": [
  {
   "cell_type": "markdown",
   "id": "172295fc",
   "metadata": {},
   "source": [
    "Python Lambda Functions\n",
    "\n",
    "Python Lambda Functions are anonymous functions means that the function is without a name. As we already know the def keyword is used to define a normal function in Python. Similarly, the lambda keyword is used to define an anonymous function in Python"
   ]
  },
  {
   "cell_type": "code",
   "execution_count": null,
   "id": "67870f3d",
   "metadata": {},
   "outputs": [],
   "source": [
    "### Syntax of lamda functions in Python\n",
    "lambda arguement: expression\n"
   ]
  },
  {
   "cell_type": "code",
   "execution_count": null,
   "id": "2b1e5409",
   "metadata": {},
   "outputs": [],
   "source": [
    "### Sytax  --- IGNORE ---\n",
    "addition = lambda a,b: a + b"
   ]
  },
  {
   "cell_type": "code",
   "execution_count": 3,
   "id": "65ee66ac",
   "metadata": {},
   "outputs": [
    {
     "name": "stdout",
     "output_type": "stream",
     "text": [
      "7\n"
     ]
    }
   ],
   "source": [
    "print(addition(2,5))"
   ]
  },
  {
   "cell_type": "code",
   "execution_count": null,
   "id": "5b0b052f",
   "metadata": {},
   "outputs": [],
   "source": [
    "## map()\n",
    "numbers = [1,2,3,4,5,6]\n",
    "squared_numbers = lambda x: x ** 2"
   ]
  },
  {
   "cell_type": "code",
   "execution_count": 7,
   "id": "0513511b",
   "metadata": {},
   "outputs": [
    {
     "data": {
      "text/plain": [
       "False"
      ]
     },
     "execution_count": 7,
     "metadata": {},
     "output_type": "execute_result"
    }
   ],
   "source": [
    "def even_odd(num):\n",
    "    if num%2 == 0:\n",
    "        return True\n",
    "    else:\n",
    "        return False\n",
    "## calling\n",
    "even_odd(101)"
   ]
  },
  {
   "cell_type": "code",
   "execution_count": null,
   "id": "08e8b78b",
   "metadata": {},
   "outputs": [
    {
     "data": {
      "text/plain": [
       "True"
      ]
     },
     "execution_count": 8,
     "metadata": {},
     "output_type": "execute_result"
    }
   ],
   "source": [
    "## Lambda function\n",
    "even_checker=lambda num: num%2==0 \n",
    "\n",
    "even_checker(22)"
   ]
  },
  {
   "cell_type": "code",
   "execution_count": 9,
   "id": "0098616a",
   "metadata": {},
   "outputs": [
    {
     "data": {
      "text/plain": [
       "9"
      ]
     },
     "execution_count": 9,
     "metadata": {},
     "output_type": "execute_result"
    }
   ],
   "source": [
    "## Aditional lambda fuction \n",
    "addition1 = lambda x,y,z:x+y+z \n",
    "\n",
    "#Calling the lambda fuction \n",
    "addition1(2,3,4)"
   ]
  },
  {
   "cell_type": "code",
   "execution_count": 14,
   "id": "4af07b18",
   "metadata": {},
   "outputs": [],
   "source": [
    "#### Map Function in Python\n",
    "## Map function applies a given fuction to all items in a list\n",
    "\n",
    "numbers = [1, 2, 3, 4, 5, 6]\n",
    "def square(number):\n",
    "    return number ** 2"
   ]
  },
  {
   "cell_type": "code",
   "execution_count": 16,
   "id": "46c8869d",
   "metadata": {},
   "outputs": [
    {
     "data": {
      "text/plain": [
       "[1, 4, 9, 16, 25, 36]"
      ]
     },
     "execution_count": 16,
     "metadata": {},
     "output_type": "execute_result"
    }
   ],
   "source": [
    "## lambda funtion with map\n",
    "list(map(lambda x:x**2,numbers))"
   ]
  },
  {
   "cell_type": "code",
   "execution_count": null,
   "id": "88698b57",
   "metadata": {},
   "outputs": [],
   "source": []
  }
 ],
 "metadata": {
  "kernelspec": {
   "display_name": "Python 3",
   "language": "python",
   "name": "python3"
  },
  "language_info": {
   "codemirror_mode": {
    "name": "ipython",
    "version": 3
   },
   "file_extension": ".py",
   "mimetype": "text/x-python",
   "name": "python",
   "nbconvert_exporter": "python",
   "pygments_lexer": "ipython3",
   "version": "3.13.5"
  }
 },
 "nbformat": 4,
 "nbformat_minor": 5
}
