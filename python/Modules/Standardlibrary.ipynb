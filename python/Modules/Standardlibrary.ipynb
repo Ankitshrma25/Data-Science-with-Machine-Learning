{
 "cells": [
  {
   "cell_type": "code",
   "execution_count": 10,
   "id": "8fe8d633",
   "metadata": {},
   "outputs": [
    {
     "name": "stdout",
     "output_type": "stream",
     "text": [
      "7\n",
      "banana\n"
     ]
    }
   ],
   "source": [
    "##Standart library imports\n",
    "import random\n",
    "\n",
    "print(random.randint(1,10))\n",
    "print(random.choice(['apple', 'banana', 'cherry']))"
   ]
  },
  {
   "cell_type": "code",
   "execution_count": 2,
   "id": "d1d0ae03",
   "metadata": {
    "vscode": {
     "languageId": "markdown"
    }
   },
   "outputs": [
    {
     "name": "stdout",
     "output_type": "stream",
     "text": [
      "e:\\AI-ML\\code\\python\\Modules\n"
     ]
    }
   ],
   "source": [
    "## Importing OS library for file operations\n",
    "\n",
    "import os\n",
    "print(os.getcwd())\n"
   ]
  },
  {
   "cell_type": "code",
   "execution_count": 3,
   "id": "a3140afc",
   "metadata": {},
   "outputs": [],
   "source": [
    "os.mkdir('new_directory') "
   ]
  },
  {
   "cell_type": "code",
   "execution_count": 4,
   "id": "61fb62d3",
   "metadata": {},
   "outputs": [
    {
     "data": {
      "text/plain": [
       "'new_directory/destination.txt'"
      ]
     },
     "execution_count": 4,
     "metadata": {},
     "output_type": "execute_result"
    }
   ],
   "source": [
    "## High level operations with OS library\n",
    "import shutil\n",
    "shutil.copyfile('source.txt', 'new_directory/destination.txt')"
   ]
  },
  {
   "cell_type": "code",
   "execution_count": 7,
   "id": "cf5d2a39",
   "metadata": {},
   "outputs": [
    {
     "name": "stdout",
     "output_type": "stream",
     "text": [
      "{\"name\": \"Ankit\", \"age\": 30, \"city\": \"Delhi\"}\n",
      "<class 'str'>\n",
      "<class 'dict'>\n"
     ]
    }
   ],
   "source": [
    "## Data Serialization with JSON\n",
    "import json\n",
    "data = {'name': 'Ankit', 'age': 30, 'city': 'Delhi'}\n",
    "\n",
    "json_str=json.dumps(data)\n",
    "print(json_str)\n",
    "print(type(json_str))\n",
    "\n",
    "\n",
    "json.loads(json_str)\n",
    "print(type(json.loads(json_str)))"
   ]
  },
  {
   "cell_type": "code",
   "execution_count": 8,
   "id": "d6173e5d",
   "metadata": {},
   "outputs": [
    {
     "name": "stdout",
     "output_type": "stream",
     "text": [
      "['Name', 'Age', 'City']\n",
      "['Ankit', '30', 'Delhi']\n"
     ]
    }
   ],
   "source": [
    "## CSV\n",
    "import csv\n",
    "with open('example.csv', mode='w', newline='') as file:\n",
    "    writer = csv.writer(file)\n",
    "    writer.writerow(['Name', 'Age', 'City'])\n",
    "    writer.writerow(['Ankit', 30, 'Delhi'])\n",
    "\n",
    "with open('example.csv', mode='r') as file:\n",
    "    reader = csv.reader(file)\n",
    "    for row in reader:\n",
    "        print(row)"
   ]
  },
  {
   "cell_type": "code",
   "execution_count": 10,
   "id": "14a2b49b",
   "metadata": {},
   "outputs": [
    {
     "name": "stdout",
     "output_type": "stream",
     "text": [
      "Current date and time: 2025-08-06 10:43:05.811203\n",
      "Yesterday's date and time: 2025-08-05 10:43:05.811203\n"
     ]
    }
   ],
   "source": [
    "## Datetime\n",
    "\n",
    "from datetime import datetime, timedelta\n",
    "now = datetime.now()\n",
    "print(\"Current date and time:\", now)\n",
    "\n",
    "\n",
    "yesterday = now - timedelta(days=1)\n",
    "print(\"Yesterday's date and time:\", yesterday)\n"
   ]
  },
  {
   "cell_type": "code",
   "execution_count": null,
   "id": "5938509d",
   "metadata": {},
   "outputs": [],
   "source": []
  }
 ],
 "metadata": {
  "kernelspec": {
   "display_name": "Python 3",
   "language": "python",
   "name": "python3"
  },
  "language_info": {
   "codemirror_mode": {
    "name": "ipython",
    "version": 3
   },
   "file_extension": ".py",
   "mimetype": "text/x-python",
   "name": "python",
   "nbconvert_exporter": "python",
   "pygments_lexer": "ipython3",
   "version": "3.13.5"
  }
 },
 "nbformat": 4,
 "nbformat_minor": 5
}
